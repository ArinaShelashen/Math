{
 "cells": [
  {
   "cell_type": "markdown",
   "id": "bdb218c9",
   "metadata": {},
   "source": [
    "## HW 1.1"
   ]
  },
  {
   "cell_type": "markdown",
   "id": "5ba0282e",
   "metadata": {},
   "source": [
    "**Ex.1**"
   ]
  },
  {
   "cell_type": "markdown",
   "id": "4f749339",
   "metadata": {},
   "source": [
    "Исследовать на линейную зависимость:\n",
    "#### $$f_{1}(x)=e^{x}, f_{2}(x)=1, f_{3}(x)=x+1, f_{4}(x)=x-e^{x}.$$"
   ]
  },
  {
   "cell_type": "markdown",
   "id": "7afc8c1c",
   "metadata": {},
   "source": [
    "*Решение:*"
   ]
  },
  {
   "cell_type": "markdown",
   "id": "742b1d7a",
   "metadata": {},
   "source": [
    "Заметим, что $$f_1 = f_3 - f_2 - f_4$$\n",
    "$$ e^x = (x + 1) - (1) - (x - e^x)$$\n",
    "$$ e^x = x + 1 - 1 - x - e^x$$\n",
    "то есть один из векторов является линейной комбинацией трёх других. Из этого следует, что векторы линейно зависимы."
   ]
  },
  {
   "cell_type": "markdown",
   "id": "0653108f",
   "metadata": {},
   "source": [
    "**Ex.2**"
   ]
  },
  {
   "cell_type": "markdown",
   "id": "e944fd7a",
   "metadata": {},
   "source": [
    "Исследовать на линейную зависимость:\n",
    " $$f_{1}(x)=2, f_{2}(x)=x, f_{3}(x)=x^{2}, f_{4}(x)=(x+1)^{2}.$$"
   ]
  },
  {
   "cell_type": "markdown",
   "id": "6c3c8944",
   "metadata": {},
   "source": [
    "*Решение:*"
   ]
  },
  {
   "cell_type": "markdown",
   "id": "7256ba73",
   "metadata": {},
   "source": [
    "$$f_4(x) = (x + 1)^2 = x^2 + 2x + 1$$\n",
    "Тогда\n",
    "$$f_4 = f_3 + 2f_2 + 0.5f_1$$\n",
    "$$x^2 + 2x + 1 = x^2 + 2\\cdot x + \\frac{1}{2}\\cdot 2$$"
   ]
  },
  {
   "cell_type": "markdown",
   "id": "315a2182",
   "metadata": {},
   "source": [
    "то есть один из векторов является линейной комбинацией трёх других. Из этого следует, что векторы линейно зависимы."
   ]
  },
  {
   "cell_type": "markdown",
   "id": "28db9503",
   "metadata": {},
   "source": [
    "**Ex.3**"
   ]
  },
  {
   "cell_type": "markdown",
   "id": "52a0938a",
   "metadata": {},
   "source": [
    "Найти координаты вектора $x = (2, 3, 5)\\in \\mathbb{R}^{3}$ в базисе $b_{1}=(0, 0, 10)$, $b_{2}=(2, 0, 0)$, $b_{3}=(0, 1, 0)$."
   ]
  },
  {
   "cell_type": "markdown",
   "id": "6163056f",
   "metadata": {},
   "source": [
    "*Решение:*"
   ]
  },
  {
   "cell_type": "markdown",
   "id": "a215cb1f",
   "metadata": {},
   "source": [
    "$$x = \\frac{1}{2}\\cdot b_1 + b_2 + 3\\cdot b_3$$"
   ]
  },
  {
   "cell_type": "markdown",
   "id": "b4345efd",
   "metadata": {},
   "source": [
    "*Ответ:* (0.5, 1, 3)"
   ]
  },
  {
   "cell_type": "markdown",
   "id": "8329aa8b",
   "metadata": {},
   "source": [
    "**Ex.4**"
   ]
  },
  {
   "cell_type": "markdown",
   "id": "87fb8e4d",
   "metadata": {},
   "source": [
    "Найти координаты вектора $3x^{2}-2x+2\\in\\mathbb{R}^{3}[x]$:\n",
    "\n",
    "   а) в базисе $1$, $x$, $x^{2}$;"
   ]
  },
  {
   "cell_type": "markdown",
   "id": "bf121117",
   "metadata": {},
   "source": [
    "*Ответ:* (2, -2, 3)"
   ]
  },
  {
   "cell_type": "markdown",
   "id": "b8aa6bbd",
   "metadata": {},
   "source": [
    "   б) в базисе $x^{2}$, $x-1$, $1$."
   ]
  },
  {
   "cell_type": "markdown",
   "id": "3e8bf28a",
   "metadata": {},
   "source": [
    "*Ответ:* (3, -2, 0)"
   ]
  },
  {
   "cell_type": "markdown",
   "id": "07e1105b",
   "metadata": {},
   "source": [
    "**Ex.5**"
   ]
  },
  {
   "cell_type": "markdown",
   "id": "9ce607d7",
   "metadata": {},
   "source": [
    "Установить, является ли линейным подпространством:\n",
    "\n",
    "**а)** совокупность всех векторов трехмерного пространства, у которых по крайней мере одна из первых двух координат равна нулю;"
   ]
  },
  {
   "cell_type": "markdown",
   "id": "4b6c4758",
   "metadata": {},
   "source": [
    "*Ответ:* нет.<br>\n",
    "*Решение:*\n",
    "\n",
    "Если бы условие звучало более строго (напр., первая координата/вторая координата/обе координаты равны нулю, тогда условия для подмножеств выполнялись бы:\n",
    "\n",
    "$$(0, a, b)+(0, c, d) = (0, a+c, b+d),$$ \n",
    "$$\\alpha\\cdot (0, a, b) = (0, \\alpha a, \\alpha b).$$\n",
    "<br>\n",
    "$$(a, 0, b)+(c, 0, d) = (a+c, 0, b+d),$$ \n",
    "$$\\alpha\\cdot (a, 0, b) = (\\alpha a, 0, \\alpha b).$$\n",
    "<br>\n",
    "$$(0, 0, b)+(0, 0, d) = (0, 0, b+d),$$ \n",
    "$$\\alpha\\cdot (0, 0, b) = (0, 0, \\alpha b).$$"
   ]
  },
  {
   "cell_type": "markdown",
   "id": "ea965b9d",
   "metadata": {},
   "source": [
    "При условии, что по крайней мере одна из первых двух координат равна нулю может возникнуть следующая ситуация:\n",
    "$$(0, a, b)+(с, 0, d) = (с, a, b+d),$$ \n",
    "$$\\alpha\\cdot (0, a, b) = (0, \\alpha a, \\alpha b),$$\n",
    "$$\\alpha\\cdot (c, 0, d) = (\\alpha c, 0, \\alpha d).$$\n",
    "Т.е. условие умножения на константу будет соблюдаться для подмножества, а вот при сложении может получиться вектор, не относящийся к множеству, где по крайней мере одна из первых двух координат равна нулю. Следовательно,ответ - нет."
   ]
  },
  {
   "cell_type": "markdown",
   "id": "785618f2",
   "metadata": {},
   "source": [
    "**б)** все векторы, являющиеся линейными комбинациями данных векторов $\\{u_{1}, u_{2}, ..., u_{n}\\}$."
   ]
  },
  {
   "cell_type": "markdown",
   "id": "fd9f7710",
   "metadata": {},
   "source": [
    "*Решение:*<br>\n",
    "Пусть векторы a и b являются линейными комбинациями векторов $\\{u_{1}, u_{2}, ..., u_{n}\\}$:\n",
    "$$a = \\lambda_1u_1 + \\lambda_2u_2 + ... + \\lambda_nu_n$$\n",
    "$$b = \\mu_1u_1 + \\mu_2u_2 + ... + \\mu_nu_n$$\n",
    "<br>\n",
    "Тогда\n",
    "$$a + b = (\\lambda_1+\\mu_1)u_1+(\\lambda_2+\\mu_2)u_2+...+(\\lambda_n+\\mu_n)u_n$$\n",
    "$$\\alpha\\cdot a = \\alpha\\lambda_1u_1 + \\alpha\\lambda_2u_2 + ... + \\alpha\\lambda_nu_n$$\n",
    "Полученные вектора также принадлежат указанному множеству. Следовательно, все векторы, являющиеся линейными комбинациями указанных векторов, будут являться их подпространствами.\n",
    "<br>\n",
    "*Ответ:* да."
   ]
  },
  {
   "cell_type": "markdown",
   "id": "39b5adfd",
   "metadata": {},
   "source": [
    "## HW 1.2"
   ]
  },
  {
   "cell_type": "code",
   "execution_count": 64,
   "id": "65d05759",
   "metadata": {},
   "outputs": [],
   "source": [
    "import numpy as np\n",
    "from numpy.linalg import norm\n",
    "from math import sqrt"
   ]
  },
  {
   "cell_type": "markdown",
   "id": "4cd8863a",
   "metadata": {},
   "source": [
    "**Ex.1**"
   ]
  },
  {
   "cell_type": "markdown",
   "id": "5c976787",
   "metadata": {},
   "source": [
    "Найти скалярное произведение векторов $x, y \\in \\mathbb{R}$:<br>\n",
    "**а)** $x=(0,-3, 6),~y=(-4, 7, 9);$<br>"
   ]
  },
  {
   "cell_type": "markdown",
   "id": "164930df",
   "metadata": {},
   "source": [
    "*Решение:*<br>\n",
    "$$(x, y) = 0\\cdot (-4) + (-3)\\cdot 7 + 6\\cdot 9 = 0 - 21 + 54 = 33$$ "
   ]
  },
  {
   "cell_type": "code",
   "execution_count": 65,
   "id": "bb23a838",
   "metadata": {},
   "outputs": [
    {
     "name": "stdout",
     "output_type": "stream",
     "text": [
      "Скалярное произведение (x, y) = 33\n"
     ]
    }
   ],
   "source": [
    "x = np.array([0,-3,6])\n",
    "y = np.array([-4,7,9])\n",
    "print(f'Скалярное произведение (x, y) = {x.dot(y)}')"
   ]
  },
  {
   "cell_type": "markdown",
   "id": "277c4b3d",
   "metadata": {},
   "source": [
    "**б)** $x=(7, -4, 0, 1),~y=(-3, 1, 11, 2).$"
   ]
  },
  {
   "cell_type": "markdown",
   "id": "3c389880",
   "metadata": {},
   "source": [
    "$$(x, y) = 7\\cdot (-3) + (-4)\\cdot 1 + 0\\cdot 11 + 1\\cdot 2 = -21 - 4 + 0 + 2 = -23$$ "
   ]
  },
  {
   "cell_type": "code",
   "execution_count": 66,
   "id": "92d48c47",
   "metadata": {},
   "outputs": [
    {
     "name": "stdout",
     "output_type": "stream",
     "text": [
      "Скалярное произведение (x, y) = -23\n"
     ]
    }
   ],
   "source": [
    "x = np.array([7,-4,0,1])\n",
    "y = np.array([-3,1,11,2])\n",
    "print(f'Скалярное произведение (x, y) = {x.dot(y)}')"
   ]
  },
  {
   "cell_type": "markdown",
   "id": "d832a00f",
   "metadata": {},
   "source": [
    "**Ex.2**"
   ]
  },
  {
   "cell_type": "markdown",
   "id": "aacb83ad",
   "metadata": {},
   "source": [
    "Найти нормы векторов $a(4, 2, 4)$ и $b(12, 3, 4)$ и угол между ними."
   ]
  },
  {
   "cell_type": "markdown",
   "id": "1a4cc8cd",
   "metadata": {},
   "source": [
    "*Решение:*<br>\n",
    "Манхэтенская норма:<br>\n",
    "$l_{1a} = 4 + 2 + 4 = 10$<br>\n",
    "$l_{1b} = 12 + 3 + 4 = 19$<br><br>\n",
    "\n",
    "Евклидова норма:<br>\n",
    "$l_{2a} =\\sqrt{4^2 + 2^2 + 4^2}=6$<br>\n",
    "$l_{2b} =\\sqrt{12^2 + 3^2 + 4^2}=13$"
   ]
  },
  {
   "cell_type": "code",
   "execution_count": 67,
   "id": "ec133423",
   "metadata": {},
   "outputs": [
    {
     "name": "stdout",
     "output_type": "stream",
     "text": [
      "l1 норма вектора а равна 10.0\n",
      "l1 норма вектора b равна 19.0\n",
      "l2 норма вектора а равна 6.0\n",
      "l2 норма вектора b равна 13.0\n"
     ]
    }
   ],
   "source": [
    "a = np.array([4,2,4])\n",
    "b = np.array([12,3,4])\n",
    "print(f'l1 норма вектора а равна {norm(a,ord=1)}')\n",
    "print(f'l1 норма вектора b равна {norm(b,ord=1)}')\n",
    "print(f'l2 норма вектора а равна {norm(a,ord=2)}')\n",
    "print(f'l2 норма вектора b равна {norm(b,ord=2)}')"
   ]
  },
  {
   "cell_type": "markdown",
   "id": "cc8a4192",
   "metadata": {},
   "source": [
    "### $cos\\varphi = \\frac{(x,y)}{\\left \\|x\\right \\|\\cdot\\left \\|y\\right \\|}$"
   ]
  },
  {
   "cell_type": "markdown",
   "id": "a544824f",
   "metadata": {},
   "source": [
    "### $cos\\varphi = \\frac{4\\cdot12 + 2\\cdot3 + 4\\cdot4}{6\\cdot13} = \\frac{4\\cdot12 + 2\\cdot3 + 4\\cdot4}{6\\cdot13}=\\frac{70}{78}=0.8974$"
   ]
  },
  {
   "cell_type": "code",
   "execution_count": 68,
   "id": "e967071a",
   "metadata": {},
   "outputs": [
    {
     "name": "stdout",
     "output_type": "stream",
     "text": [
      "Угол между a и b равен 0.46\n"
     ]
    }
   ],
   "source": [
    "cos = a.dot(b)/(norm(a)*norm(b))\n",
    "print(f'Угол между a и b равен {np.arccos(cos):.2f}')"
   ]
  },
  {
   "cell_type": "markdown",
   "id": "526705aa",
   "metadata": {},
   "source": [
    "**Ex.3**"
   ]
  },
  {
   "cell_type": "markdown",
   "id": "03e94d52",
   "metadata": {},
   "source": [
    "Будет ли линейное пространство евклидовым, если за скалярное произведение принять:<br>\n",
    "**а)** произведение длин векторов;"
   ]
  },
  {
   "cell_type": "markdown",
   "id": "ba216d8d",
   "metadata": {},
   "source": [
    "*Решение:*<br>\n",
    "Да, т.к. будут соблюдаться все аксиомы для евклидового пространства \n",
    "1) $(x,y)=(y,x);$<br>\n",
    "2) $(\\lambda x, y)=\\lambda(x, y);$<br>\n",
    "3) $(x_{1}+x_{2},y)=(x_{1},y)+(x_{2},y);$<br>\n",
    "4) $(x, x)\\geq0$, причем $(x,x)=0\\Leftrightarrow x=0.$"
   ]
  },
  {
   "cell_type": "markdown",
   "id": "c5014ff5",
   "metadata": {},
   "source": [
    "**б)** утроенное обычное скалярное произведение векторов?<br>\n",
    "*Решение:*<br>\n",
    "Да, т.к. будут соблюдаться все аксиомы для евклидового пространства "
   ]
  },
  {
   "cell_type": "markdown",
   "id": "aa225c04",
   "metadata": {},
   "source": [
    "**Ex.4**"
   ]
  },
  {
   "cell_type": "markdown",
   "id": "3ce289a7",
   "metadata": {},
   "source": [
    "Какие из нижеперечисленных векторов образуют ортонормированный базис в линейном пространстве $\\mathbb{R}^{3}$:<br>\n",
    "а) $(1,0,0),(0,0,1);$ <br>\n"
   ]
  },
  {
   "cell_type": "code",
   "execution_count": 69,
   "id": "1a1476aa",
   "metadata": {},
   "outputs": [
    {
     "name": "stdout",
     "output_type": "stream",
     "text": [
      "Вектора образуют ортонормированный базис\n"
     ]
    }
   ],
   "source": [
    "e1 = np.array([1,0,0])\n",
    "e2 = np.array([0,0,1])\n",
    "if (e1.dot(e2) == 0) and(e1.dot(e1) == 1) and (e2.dot(e2) == 1):\n",
    "    print('Вектора образуют ортонормированный базис')\n",
    "else:\n",
    "    print('Вектора не образуют ортонормированный базис')"
   ]
  },
  {
   "cell_type": "markdown",
   "id": "d08edeec",
   "metadata": {},
   "source": [
    "б) $(1/\\sqrt{2},-1/\\sqrt{2},0),(1/\\sqrt{2},1/\\sqrt{2},0), (0,0,1);$<br>"
   ]
  },
  {
   "cell_type": "code",
   "execution_count": 70,
   "id": "023929a7",
   "metadata": {},
   "outputs": [
    {
     "name": "stdout",
     "output_type": "stream",
     "text": [
      "Вектора образуют ортонормированный базис\n"
     ]
    }
   ],
   "source": [
    "e1 = np.array([1/sqrt(2),-1/sqrt(2),0])\n",
    "e3 = np.array([1/sqrt(2),1/sqrt(2),0])\n",
    "e2 = np.array([0,0,1])\n",
    "if (e1.dot(e2) == 0) and (e2.dot(e3) == 0) and (e1.dot(e3) == 0) and \\\n",
    "   (round(e1.dot(e1),2) == 1) and (round(e2.dot(e2), 2) == 1) and (round(e3.dot(e3),2) ==1):\n",
    "    print('Вектора образуют ортонормированный базис')\n",
    "else:\n",
    "    print('Вектора не образуют ортонормированный базис')\n"
   ]
  },
  {
   "cell_type": "markdown",
   "id": "46281ea3",
   "metadata": {},
   "source": [
    "в) $(1/2, -1/2, 0), (0, 1/2, 1/2), (0,0,1);$<br>"
   ]
  },
  {
   "cell_type": "code",
   "execution_count": 71,
   "id": "fcee98e4",
   "metadata": {},
   "outputs": [
    {
     "name": "stdout",
     "output_type": "stream",
     "text": [
      "Вектора не образуют ортонормированный базис\n"
     ]
    }
   ],
   "source": [
    "e1 = np.array([0.5,-0.5,0])\n",
    "e3 = np.array([0,0.5,0.5])\n",
    "e2 = np.array([0,0,1])\n",
    "if (e1.dot(e2) == 0) and (e2.dot(e3) == 0) and (e1.dot(e3) == 0) and \\\n",
    "   (round(e1.dot(e1),2) == 1) and (round(e2.dot(e2), 2) == 1) and (round(e3.dot(e3),2) ==1):\n",
    "    print('Вектора образуют ортонормированный базис')\n",
    "else:\n",
    "    print('Вектора не образуют ортонормированный базис')"
   ]
  },
  {
   "cell_type": "markdown",
   "id": "7c9f1a2f",
   "metadata": {},
   "source": [
    "г) $(1,0,0),(0,1,0),(0,0,1)$ "
   ]
  },
  {
   "cell_type": "code",
   "execution_count": 73,
   "id": "4bdf8eb0",
   "metadata": {},
   "outputs": [
    {
     "name": "stdout",
     "output_type": "stream",
     "text": [
      "Вектора образуют ортонормированный базис\n"
     ]
    }
   ],
   "source": [
    "e1 = np.array([1,0,0])\n",
    "e3 = np.array([0,1,0])\n",
    "e2 = np.array([0,0,1])\n",
    "if (e1.dot(e2) == 0) and (e2.dot(e3) == 0) and (e1.dot(e3) == 0) and \\\n",
    "   (round(e1.dot(e1),2) == 1) and (round(e2.dot(e2), 2) == 1) and (round(e3.dot(e3),2) ==1):\n",
    "    print('Вектора образуют ортонормированный базис')\n",
    "else:\n",
    "    print('Вектора не образуют ортонормированный базис')"
   ]
  }
 ],
 "metadata": {
  "kernelspec": {
   "display_name": "Python 3 (ipykernel)",
   "language": "python",
   "name": "python3"
  },
  "language_info": {
   "codemirror_mode": {
    "name": "ipython",
    "version": 3
   },
   "file_extension": ".py",
   "mimetype": "text/x-python",
   "name": "python",
   "nbconvert_exporter": "python",
   "pygments_lexer": "ipython3",
   "version": "3.9.6"
  }
 },
 "nbformat": 4,
 "nbformat_minor": 5
}
