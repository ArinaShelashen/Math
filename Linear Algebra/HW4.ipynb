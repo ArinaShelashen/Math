{
 "cells": [
  {
   "cell_type": "markdown",
   "id": "5cfe4aa5",
   "metadata": {},
   "source": [
    "### HW4.1"
   ]
  },
  {
   "cell_type": "markdown",
   "id": "3e495969",
   "metadata": {},
   "source": [
    "**Ex.1**"
   ]
  },
  {
   "cell_type": "markdown",
   "id": "e716c301",
   "metadata": {},
   "source": [
    "__1.__ Решить систему уравнений методом Гаусса:\n",
    "\n",
    "$$\\begin{cases}\n",
    "x_{1}+x_{2}-x_{3}-2x_{4}=0, \\\\\n",
    "2x_{1}+x_{2}-x_{3}+x_{4}=-2, \\\\\n",
    "x_{1}+x_{2}-3x_{3}+x_{4}=4.\n",
    "\\end{cases}$$"
   ]
  },
  {
   "cell_type": "markdown",
   "id": "ced70201",
   "metadata": {},
   "source": [
    "$$\\begin{pmatrix}\n",
    "\\left.\\begin{matrix}\n",
    "1 & 1 & -1 & -2  \\\\ \n",
    "2 & 1 & -1 & 1 \\\\\n",
    "1 & 1 & -3 & 1\n",
    "\\end{matrix}\\right|\n",
    "\\begin{matrix}\n",
    "0\\\\ \n",
    "-2 \\\\\n",
    "4\n",
    "\\end{matrix}\n",
    "\\end{pmatrix},$$"
   ]
  },
  {
   "cell_type": "markdown",
   "id": "6d49ff36",
   "metadata": {},
   "source": [
    "$$\\begin{pmatrix}\n",
    "\\left.\\begin{matrix}\n",
    "1 & 1 & -1 & -2  \\\\ \n",
    "0 & -1 & 1 & 5 \\\\\n",
    "0 & 0 & -2 & 3\n",
    "\\end{matrix}\\right|\n",
    "\\begin{matrix}\n",
    "0\\\\ \n",
    "-2 \\\\\n",
    "4\n",
    "\\end{matrix}\n",
    "\\end{pmatrix},$$"
   ]
  },
  {
   "cell_type": "markdown",
   "id": "64ce8526",
   "metadata": {},
   "source": [
    "$$ rankA = rank\\tilde A < n,$$\n",
    "система имеет бесконечное количество решений"
   ]
  },
  {
   "cell_type": "markdown",
   "id": "55e359c2",
   "metadata": {},
   "source": [
    "$x_4 = c \\\\\n",
    "x_3 = -2 + 1.5c \\\\\n",
    "x_2 = 2 + 5c + (-2 + 1.5c) = 6.5 c \\\\\n",
    "x_1 = 2c + (-2 + 1.5c) - 6.5c = -2 - 3c\n",
    "$"
   ]
  },
  {
   "cell_type": "markdown",
   "id": "6b41ec84",
   "metadata": {},
   "source": [
    "Ответ: $(-3c-2,\\ 6.5c, \\ 1.5c-2,\\ c)$"
   ]
  },
  {
   "cell_type": "markdown",
   "id": "1271062f",
   "metadata": {},
   "source": [
    "**Ex.2**"
   ]
  },
  {
   "cell_type": "markdown",
   "id": "923879d0",
   "metadata": {},
   "source": [
    "__2.__ Проверить на совместность и выяснить, сколько решений будет иметь система линейных уравнений:\n",
    "\n",
    "   а) $\\begin{cases}\n",
    "3x_{1}-x_{2}+x_{3}=4, \\\\\n",
    "2x_{1}-5x_{2}-3x_{3}=-17, \\\\\n",
    "x_{1}+x_{2}-x_{3}=0;\n",
    "\\end{cases}$"
   ]
  },
  {
   "cell_type": "code",
   "execution_count": 1,
   "id": "6dfe4011",
   "metadata": {},
   "outputs": [],
   "source": [
    "import numpy as np"
   ]
  },
  {
   "cell_type": "code",
   "execution_count": 28,
   "id": "feb7771d",
   "metadata": {},
   "outputs": [],
   "source": [
    "def is_consistent(a,b):\n",
    "    b = b.reshape(len(b), 1)\n",
    "    c = np.hstack((a,b))\n",
    "    if np.linalg.matrix_rank(a) == np.linalg.matrix_rank(c):\n",
    "        if np.linalg.matrix_rank(a) == a.shape[1]:\n",
    "            print('Матрица совместна, имеет одно решение')\n",
    "        else:\n",
    "            print('Матрица совместна, имеет бесконечное количество решений')\n",
    "    else:\n",
    "        print('Матрица несовместна')"
   ]
  },
  {
   "cell_type": "code",
   "execution_count": 30,
   "id": "43ed8f8b",
   "metadata": {},
   "outputs": [
    {
     "name": "stdout",
     "output_type": "stream",
     "text": [
      "Матрица совместна, имеет одно решение\n"
     ]
    }
   ],
   "source": [
    "a = np.array([[3,-1,1],[2,-5,-3],[1,1,-1]])\n",
    "b = np.array([4,-17,0])\n",
    "is_consistent(a,b)"
   ]
  },
  {
   "cell_type": "markdown",
   "id": "05396635",
   "metadata": {},
   "source": [
    "   б) $\\begin{cases}\n",
    "2x_{1}-4x_{2}+6x_{3}=1, \\\\\n",
    "x_{1}-2x_{2}+3x_{3}=-2, \\\\\n",
    "3x_{1}-6x_{2}+9x_{3}=5;\n",
    "\\end{cases}$"
   ]
  },
  {
   "cell_type": "code",
   "execution_count": 31,
   "id": "2188fd53",
   "metadata": {},
   "outputs": [
    {
     "name": "stdout",
     "output_type": "stream",
     "text": [
      "Матрица несовместна\n"
     ]
    }
   ],
   "source": [
    "a = np.array([[2,-4,6],[1,-2,3],[3,-6,9]])\n",
    "b = np.array([1,-2,5])\n",
    "is_consistent(a,b)"
   ]
  },
  {
   "cell_type": "markdown",
   "id": "a38c8a4a",
   "metadata": {},
   "source": [
    "   в) $\\begin{cases}\n",
    "x_{1}+2x_{2}+5x_{3}=4, \\\\\n",
    "3x_{1}+x_{2}-8x_{3}=-2. \n",
    "\\end{cases}$"
   ]
  },
  {
   "cell_type": "code",
   "execution_count": 32,
   "id": "b13b1ae0",
   "metadata": {},
   "outputs": [
    {
     "name": "stdout",
     "output_type": "stream",
     "text": [
      "Матрица совместна, имеет бесконечное количество решений\n"
     ]
    }
   ],
   "source": [
    "a = np.array([[1,2,5],[3,1,-8]])\n",
    "b = np.array([4,-2])\n",
    "is_consistent(a,b)"
   ]
  },
  {
   "cell_type": "markdown",
   "id": "084fdffa",
   "metadata": {},
   "source": [
    "**Ex.3**"
   ]
  },
  {
   "cell_type": "markdown",
   "id": "3176d68d",
   "metadata": {},
   "source": [
    "\n",
    "__3.__ Проверить на совместность и выяснить, сколько решений будет иметь система линейных уравнений, заданная расширенной матрицей\n",
    "\n",
    "$$\\tilde{A}=\\begin{pmatrix}\n",
    "\\left.\\begin{matrix}\n",
    "1 & 3 & -2 & 4\\\\ \n",
    "0 & 5 & 0 & 1\\\\ \n",
    "0 & 0 & 3 & 0\\\\ \n",
    "0 & 0 & 0 & 2\n",
    "\\end{matrix}\\right|\n",
    "\\begin{matrix}\n",
    "3\\\\ \n",
    "2\\\\\n",
    "4\\\\\n",
    "1\n",
    "\\end{matrix}\n",
    "\\end{pmatrix}.$$"
   ]
  },
  {
   "cell_type": "code",
   "execution_count": 33,
   "id": "55330f2d",
   "metadata": {},
   "outputs": [
    {
     "name": "stdout",
     "output_type": "stream",
     "text": [
      "Матрица совместна, имеет одно решение\n"
     ]
    }
   ],
   "source": [
    "a = np.array([[1,3,-2,4],[0,5,0,1],[0,0,3,0],[0,0,0,2]])\n",
    "b = np.array([3,2,4,1])\n",
    "is_consistent(a,b)"
   ]
  },
  {
   "cell_type": "markdown",
   "id": "b0c808bf",
   "metadata": {},
   "source": [
    "$x_4 = 0.5 \\\\\n",
    "x_3 = 4/3 \\\\\n",
    "x_2 = (2 - 0.5)/5 = 0.3 \\\\\n",
    "x_1 = 3 - 2 + 8/3 - 0.9 = 83/30\n",
    "$"
   ]
  },
  {
   "cell_type": "markdown",
   "id": "a9c3cd8f",
   "metadata": {},
   "source": [
    "**Ex.4**"
   ]
  },
  {
   "cell_type": "markdown",
   "id": "4c1cc50c",
   "metadata": {},
   "source": [
    "__4.__ Дана система линейных уравнений, заданная расширенной матрицей\n",
    "\n",
    "$$\\tilde{A}=\\begin{pmatrix}\n",
    "\\left.\\begin{matrix}\n",
    "1 & 2 & 3\\\\ \n",
    "4 & 5 & 6\\\\ \n",
    "7 & 8 & 9\n",
    "\\end{matrix}\\right|\n",
    "\\begin{matrix}\n",
    "a\\\\ \n",
    "b\\\\\n",
    "c\n",
    "\\end{matrix}\n",
    "\\end{pmatrix}.$$\n",
    "\n",
    "Найти соотношение между параметрами $a$, $b$ и $c$, при которых система является несовместной."
   ]
  },
  {
   "cell_type": "markdown",
   "id": "42b13121",
   "metadata": {},
   "source": [
    "$\\begin{pmatrix}\n",
    "\\left.\\begin{matrix}\n",
    "1 & 2 & 3\\\\ \n",
    "4 & 5 & 6\\\\ \n",
    "7 & 8 & 9\n",
    "\\end{matrix}\\right|\n",
    "\\begin{matrix}\n",
    "a\\\\ \n",
    "b\\\\\n",
    "c\n",
    "\\end{matrix}\n",
    "\\end{pmatrix}$"
   ]
  },
  {
   "cell_type": "markdown",
   "id": "0f4e7463",
   "metadata": {},
   "source": [
    "$\\begin{pmatrix}\n",
    "\\left.\\begin{matrix}\n",
    "1 & 2 & 3\\\\ \n",
    "0 & -3 & -6\\\\ \n",
    "0 & -6 & -12\n",
    "\\end{matrix}\\right|\n",
    "\\begin{matrix}\n",
    "a\\\\ \n",
    "b - 4a\\\\\n",
    "c - 7a\n",
    "\\end{matrix}\n",
    "\\end{pmatrix}$"
   ]
  },
  {
   "cell_type": "markdown",
   "id": "385e8ad9",
   "metadata": {},
   "source": [
    "$\\begin{pmatrix}\n",
    "\\left.\\begin{matrix}\n",
    "1 & 2 & 3\\\\ \n",
    "0 & -3 & -6\\\\ \n",
    "0 & 0 & 0\n",
    "\\end{matrix}\\right|\n",
    "\\begin{matrix}\n",
    "a\\\\ \n",
    "b - 4a\\\\\n",
    "c + a - 2b\n",
    "\\end{matrix}\n",
    "\\end{pmatrix}$"
   ]
  },
  {
   "cell_type": "markdown",
   "id": "5f9fff31",
   "metadata": {},
   "source": [
    "Система несовместна при: $ \\\\\n",
    "    c + a - 2b \\neq 0$ "
   ]
  },
  {
   "cell_type": "markdown",
   "id": "f775c37f",
   "metadata": {},
   "source": [
    "### HW4.2"
   ]
  },
  {
   "cell_type": "markdown",
   "id": "8d2793eb",
   "metadata": {},
   "source": [
    "__1.__ Решить систему уравнений методом Крамера:\n",
    "\n",
    "   а) $\\begin{cases}\n",
    "x_{1}-2x_{2}=1 \\\\\n",
    "3x_{1}-4x_{2}=7\n",
    "\\end{cases}$"
   ]
  },
  {
   "cell_type": "code",
   "execution_count": 37,
   "id": "9045ee9d",
   "metadata": {},
   "outputs": [
    {
     "name": "stdout",
     "output_type": "stream",
     "text": [
      "x1 = 5.0, x2 = 2.0\n"
     ]
    }
   ],
   "source": [
    "a = np.array([[1, -2], [3, -4]])\n",
    "a1 = np.array([[1, -2],[7, -4]])\n",
    "a2 = np.array([[1,1],[3,7]])\n",
    "det_a = np.linalg.det(a)\n",
    "det_a1 = np.linalg.det(a1)\n",
    "det_a2 = np.linalg.det(a2)\n",
    "x1 = round(det_a1/det_a,2)\n",
    "x2 = round(det_a2/det_a,2)\n",
    "print(f'x1 = {x1}, x2 = {x2}')"
   ]
  },
  {
   "cell_type": "markdown",
   "id": "5c3a0edf",
   "metadata": {},
   "source": [
    "   б) $\\begin{cases}\n",
    "2x_{1}-x_{2}+5x_{3}=10 \\\\\n",
    "x_{1}+x_{2}-3x_{3}=-2 \\\\\n",
    "2x_{1}+4x_{2}+x_{3}=1\n",
    "\\end{cases}$"
   ]
  },
  {
   "cell_type": "code",
   "execution_count": 39,
   "id": "cb842cd6",
   "metadata": {},
   "outputs": [
    {
     "name": "stdout",
     "output_type": "stream",
     "text": [
      "x1 = 2.0, x2 = -1.0, x3 = 1.0\n"
     ]
    }
   ],
   "source": [
    "a = np.array([[2,-1,5], [1,1,-3],[2,4,1]])\n",
    "a1 = np.array([[10,-1,5],[-2,1,-3], [1,4,1]])\n",
    "a2 = np.array([[2,10,5], [1,-2,-3],[2,1,1]])\n",
    "a3 = np.array([[2,-1,10], [1,1,-2],[2,4,1]])\n",
    "det_a = np.linalg.det(a)\n",
    "det_a1 = np.linalg.det(a1)\n",
    "det_a2 = np.linalg.det(a2)\n",
    "det_a3 = np.linalg.det(a3)\n",
    "x1 = round(det_a1/det_a,2)\n",
    "x2 = round(det_a2/det_a,2)\n",
    "x3 = round(det_a3/det_a,2)\n",
    "print(f'x1 = {x1}, x2 = {x2}, x3 = {x3}')"
   ]
  },
  {
   "cell_type": "markdown",
   "id": "39d2f4c4",
   "metadata": {},
   "source": [
    "__2.__ Найти $L$-матрицу $LU$-разложения для матрицы коэффициентов:\n",
    "\n",
    "   а)$$\\begin{pmatrix}\n",
    "1 & 2 & 4 \\\\ \n",
    "2 & 9 & 12 \\\\ \n",
    "3 & 26 & 30\n",
    "\\end{pmatrix}$$"
   ]
  },
  {
   "cell_type": "code",
   "execution_count": 41,
   "id": "02bd8f4d",
   "metadata": {},
   "outputs": [
    {
     "data": {
      "text/plain": [
       "array([[0. , 0. , 0. ],\n",
       "       [2. , 0. , 0. ],\n",
       "       [3. , 5.2, 0. ]])"
      ]
     },
     "execution_count": 41,
     "metadata": {},
     "output_type": "execute_result"
    }
   ],
   "source": [
    "L = np.array([[0,0,0],[2,0,0],[3,5.2,0]])\n",
    "L"
   ]
  },
  {
   "cell_type": "markdown",
   "id": "bc740f26",
   "metadata": {},
   "source": [
    "   б)$$\\begin{pmatrix}\n",
    "1 & 1 & 2 & 4\\\\ \n",
    "2 & 5 & 8 & 9\\\\ \n",
    "3 & 18 & 29 & 18\\\\\n",
    "4 & 22 & 53 & 33\n",
    "\\end{pmatrix}$$"
   ]
  },
  {
   "cell_type": "code",
   "execution_count": 42,
   "id": "3c4c9a87",
   "metadata": {},
   "outputs": [
    {
     "data": {
      "text/plain": [
       "array([[0, 0, 0, 0],\n",
       "       [2, 0, 0, 0],\n",
       "       [3, 5, 0, 0],\n",
       "       [4, 6, 7, 0]])"
      ]
     },
     "execution_count": 42,
     "metadata": {},
     "output_type": "execute_result"
    }
   ],
   "source": [
    "L = np.array([[0,0,0,0],[2,0,0,0],[3,5,0,0],[4,6,7,0]])\n",
    "L"
   ]
  },
  {
   "cell_type": "markdown",
   "id": "68045039",
   "metadata": {},
   "source": [
    "__3.__ Решить систему линейных уравнений методом $LU$-разложения\n",
    "\n",
    "$$\\begin{cases}\n",
    "2x_{1}+x_{2}+3x_{3}=1 \\\\\n",
    "11x_{1}+7x_{2}+5x_{3}=-6 \\\\\n",
    "9x_{1}+8x_{2}+4x_{3}=-5\n",
    "\\end{cases}$$"
   ]
  },
  {
   "cell_type": "markdown",
   "id": "7e0b8bd5",
   "metadata": {},
   "source": [
    "$ A = \\begin{pmatrix}\n",
    "2 & 1 & 3 \\\\ \n",
    "11 & 7 & 5 \\\\ \n",
    "9 & 8 & 4\n",
    "\\end{pmatrix}$"
   ]
  },
  {
   "cell_type": "markdown",
   "id": "ba245be3",
   "metadata": {},
   "source": [
    "$ U = \\begin{pmatrix}\n",
    "2 & 1 & 3 \\\\ \n",
    "0 & 1.5 & -11.5 \\\\ \n",
    "0 & 0 & 17.33\n",
    "\\end{pmatrix}$"
   ]
  },
  {
   "cell_type": "markdown",
   "id": "225f7134",
   "metadata": {},
   "source": [
    "$ L = \\begin{pmatrix}\n",
    "1 & 0 & 0 \\\\ \n",
    "5.5 & 1 & 0 \\\\ \n",
    "4.5 & 2.33 & 1\n",
    "\\end{pmatrix}$"
   ]
  },
  {
   "cell_type": "markdown",
   "id": "00c147dd",
   "metadata": {},
   "source": [
    "$Ly=b:$\n",
    "\n",
    "$\\begin{cases}\n",
    "y_{1}=1, \\\\\n",
    "5.5y_{1}+y_{2}=-6, \\\\\n",
    "4.5y_{1}+2.33y_{2}+y_{3}=-5.\n",
    "\\end{cases}$\n",
    "\n",
    "$y_{1}=1,$\n",
    "$y_{2}=-11.5,$\n",
    "$y_{3}=17.33.$\n",
    "\n",
    "\n",
    "$Ux=y:$\n",
    "\n",
    "$\\begin{cases}\n",
    "2x_{1}+x_{2}+3x_{3}=1, \\\\\n",
    "1.5x_{2}-11.5x_3=-11.5, \\\\\n",
    "17.33x_{3}=17.33.\n",
    "\\end{cases}$\n",
    "\n",
    "$x_{3}=1,$\n",
    "$x_{2}=0,$\n",
    "$x_{1}=-1.$"
   ]
  },
  {
   "cell_type": "markdown",
   "id": "a06f202d",
   "metadata": {},
   "source": [
    "__4.__ Решить систему линейных уравнений методом Холецкого\n",
    "\n",
    "$$\\begin{cases}\n",
    "81x_{1}-45x_{2}+45x_{3}=531 \\\\\n",
    "-45x_{1}+50x_{2}-15x_{3}=-460 \\\\\n",
    "45x_{1}-15x_{2}+38x_{3}=193\n",
    "\\end{cases}$$"
   ]
  },
  {
   "cell_type": "markdown",
   "id": "c8cc0a65",
   "metadata": {},
   "source": [
    "\n",
    "$l_{11}=\\sqrt{a_{11}}=\\sqrt{81} = 9,$ <br>\n",
    "$l_{21}=\\frac{a_{21}}{l_{11}}=\\frac{-45}{9}=-5,$ <br>\n",
    "$l_{31}=\\frac{a_{31}}{l_{11}}=\\frac{45}{9}=5,$ <br>\n",
    "\n",
    "$l_{22}=\\sqrt{a_{22}-l_{21}^{2}}=\\sqrt{50 - 25}=5,$ <br>\n",
    "$l_{32}=\\frac{1}{l_{22}}\\left ( a_{32}-l_{21}l_{31} \\right)=\\frac{1}{5}\\left (-15 + 5\\cdot 5 \\right )=2,$ <br>\n",
    "\n",
    "$l_{33}=\\sqrt{a_{33}-l_{31}^{2}-l_{32}^{2}}=\\sqrt{38-25-4}=3.$"
   ]
  },
  {
   "cell_type": "markdown",
   "id": "9d58c015",
   "metadata": {},
   "source": [
    "\n",
    "$L = \\begin{pmatrix}\n",
    "9 & 0 & 0 \\\\ \n",
    "-5 & 5 & 0 \\\\ \n",
    "5 & 2 & 3\n",
    "\\end{pmatrix}, \n",
    "\\; \\; \n",
    "L^{T} = \\begin{pmatrix}\n",
    "9 & -5 & 5 \\\\ \n",
    "0 & 5 & 2 \\\\ \n",
    "0 & 0 & 3\n",
    "\\end{pmatrix}.$"
   ]
  },
  {
   "cell_type": "markdown",
   "id": "a83cc76b",
   "metadata": {},
   "source": [
    "$Ly=b:\\\\\n",
    "9y_1 =531, \\\\\n",
    "-5y_1 + 5y_2 = -460, \\\\\n",
    "5y_1 + 2y_2 + 3y_3 = 193. $\n",
    "\n",
    "$y_1 = 59, \\ y_2 = -33, \\ y_3 = -12$"
   ]
  },
  {
   "cell_type": "markdown",
   "id": "f8d31511",
   "metadata": {},
   "source": [
    "$L^{T}x=y:$\n",
    "\n",
    "$\\begin{cases}\n",
    "9x_1 -5x_2 + 5x_3 = 59 \\\\\n",
    "5x_2 + 2x_3 = -33\\\\\n",
    "3x_3 = -12\n",
    "\\end{cases}$\n",
    "\n",
    "$x_{3}=-4,$\n",
    "\n",
    "$x_{2}=-5,$\n",
    "\n",
    "$x_{1}=6.$"
   ]
  }
 ],
 "metadata": {
  "kernelspec": {
   "display_name": "Python 3 (ipykernel)",
   "language": "python",
   "name": "python3"
  },
  "language_info": {
   "codemirror_mode": {
    "name": "ipython",
    "version": 3
   },
   "file_extension": ".py",
   "mimetype": "text/x-python",
   "name": "python",
   "nbconvert_exporter": "python",
   "pygments_lexer": "ipython3",
   "version": "3.9.6"
  }
 },
 "nbformat": 4,
 "nbformat_minor": 5
}
