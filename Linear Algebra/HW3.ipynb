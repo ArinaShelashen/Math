{
 "cells": [
  {
   "cell_type": "markdown",
   "id": "b4e11afa",
   "metadata": {},
   "source": [
    "**Ex.1**"
   ]
  },
  {
   "cell_type": "markdown",
   "id": "973326d3",
   "metadata": {},
   "source": [
    "Найти собственные векторы и собственные значения для линейного оператора, заданного матрицей\n",
    "\n",
    "$$A=\\begin{pmatrix}\n",
    "-1 & -6\\\\ \n",
    "2 & 6\n",
    "\\end{pmatrix}.$$"
   ]
  },
  {
   "cell_type": "markdown",
   "id": "c99669ae",
   "metadata": {},
   "source": [
    "$\\begin{vmatrix}\n",
    "-1 - \\lambda & -6\\\\ \n",
    "2 & 6 - \\lambda\n",
    "\\end{vmatrix} = 0$"
   ]
  },
  {
   "cell_type": "markdown",
   "id": "b6757070",
   "metadata": {},
   "source": [
    "$ (-1-\\lambda)(6-\\lambda)+12 = 0$"
   ]
  },
  {
   "cell_type": "markdown",
   "id": "9183d6f1",
   "metadata": {},
   "source": [
    "$ -6 + \\lambda - 6\\lambda + \\lambda^2+12 = 0$"
   ]
  },
  {
   "cell_type": "markdown",
   "id": "3be911e1",
   "metadata": {},
   "source": [
    "$\\lambda^2 - 5\\lambda + 6 = 0$"
   ]
  },
  {
   "cell_type": "markdown",
   "id": "55b1a793",
   "metadata": {},
   "source": [
    "$\\lambda_1 = 2$<br>\n",
    "$\\lambda_2 = 3$"
   ]
  },
  {
   "cell_type": "markdown",
   "id": "29305dbf",
   "metadata": {},
   "source": [
    "$\\begin{pmatrix}\n",
    "-1 & -6\\\\ \n",
    "2 & 6\n",
    "\\end{pmatrix}\n",
    "\\begin{pmatrix}\n",
    "x_{1}\\\\ \n",
    "x_{2}\n",
    "\\end{pmatrix}=\n",
    "2\n",
    "\\begin{pmatrix}\n",
    "x_{1}\\\\ \n",
    "x_{2}\n",
    "\\end{pmatrix}\n",
    "$"
   ]
  },
  {
   "cell_type": "markdown",
   "id": "d945fde7",
   "metadata": {},
   "source": [
    "$\\begin{cases}-x_1 -6x_2 = 2x_1 \\\\\n",
    "2x_1 + 6x_2 = 2x_2\\end{cases}$"
   ]
  },
  {
   "cell_type": "markdown",
   "id": "5dff6c95",
   "metadata": {},
   "source": [
    "$\\begin{cases}x_1 = -2x_2 \\\\\n",
    "x_1 = -2x_2\\end{cases}$"
   ]
  },
  {
   "cell_type": "markdown",
   "id": "5c8f522e",
   "metadata": {},
   "source": [
    "$\\begin{cases}x_2 \\in \\forall \\\\\n",
    "x_1 = -2x_2\\end{cases}$"
   ]
  },
  {
   "cell_type": "markdown",
   "id": "be1f7b71",
   "metadata": {},
   "source": [
    "$\\begin{pmatrix}\n",
    "-1 & -6\\\\ \n",
    "2 & 6\n",
    "\\end{pmatrix}\n",
    "\\begin{pmatrix}\n",
    "x_{1}\\\\ \n",
    "x_{2}\n",
    "\\end{pmatrix}=\n",
    "3\n",
    "\\begin{pmatrix}\n",
    "x_{1}\\\\ \n",
    "x_{2}\n",
    "\\end{pmatrix}\n",
    "$"
   ]
  },
  {
   "cell_type": "markdown",
   "id": "0dd84320",
   "metadata": {},
   "source": [
    "$\\begin{cases}-x_1 -6x_2 = 3x_1 \\\\\n",
    "2x_1 + 6x_2 = 3x_2\\end{cases}$"
   ]
  },
  {
   "cell_type": "markdown",
   "id": "7d54a3c0",
   "metadata": {},
   "source": [
    "$\\begin{cases}2x_1 = -3x_2 \\\\\n",
    "2x_1 = -3x_2\\end{cases}$"
   ]
  },
  {
   "cell_type": "markdown",
   "id": "4883627e",
   "metadata": {},
   "source": [
    "$\\begin{cases}x_2 \\in \\forall \\\\\n",
    "x_1 = -1.5x_2\\end{cases}$"
   ]
  },
  {
   "cell_type": "markdown",
   "id": "a465422e",
   "metadata": {},
   "source": [
    "Собственные значения: 2; 3.<br>\n",
    "Собственные векторы: (-2a, a), (-1,5a, a), где $a \\in \\forall$"
   ]
  },
  {
   "cell_type": "code",
   "execution_count": 2,
   "id": "be3a803d",
   "metadata": {},
   "outputs": [],
   "source": [
    "import numpy as np"
   ]
  },
  {
   "cell_type": "code",
   "execution_count": 3,
   "id": "e155aee1",
   "metadata": {},
   "outputs": [
    {
     "name": "stdout",
     "output_type": "stream",
     "text": [
      "Собственные значения:\n",
      "[2. 3.]\n",
      "Собственные векторы:\n",
      "[[-0.89442719  0.83205029]\n",
      " [ 0.4472136  -0.5547002 ]]\n"
     ]
    }
   ],
   "source": [
    "a = np.array([[-1, -6],[2,6]])\n",
    "w,v = np.linalg.eig(a)\n",
    "print(f'Собственные значения:\\n{w}')\n",
    "print(f'Собственные векторы:\\n{v}')"
   ]
  },
  {
   "cell_type": "markdown",
   "id": "60adb713",
   "metadata": {},
   "source": [
    "**Ex.2**"
   ]
  },
  {
   "cell_type": "markdown",
   "id": "b6333f8f",
   "metadata": {},
   "source": [
    "Дан оператор поворота на 180 градусов, задаваемый матрицей \n",
    "\n",
    "$$A=\\begin{pmatrix}\n",
    "-1 & 0\\\\ \n",
    "0 & -1\n",
    "\\end{pmatrix}.$$\n",
    "\n",
    "Показать, что __любой__ вектор является для него собственным."
   ]
  },
  {
   "cell_type": "markdown",
   "id": "634fb3c0",
   "metadata": {},
   "source": [
    "$\\begin{vmatrix}\n",
    "-1 - \\lambda & 0\\\\ \n",
    "0 & -1 - \\lambda\n",
    "\\end{vmatrix} = 0$"
   ]
  },
  {
   "cell_type": "markdown",
   "id": "581bb91a",
   "metadata": {},
   "source": [
    "$(-1-\\lambda)^2 - 0 = 0$<br>\n",
    "$1+2\\lambda + \\lambda^2 = 0$<br>\n",
    "$\\lambda = -1$\n"
   ]
  },
  {
   "cell_type": "markdown",
   "id": "b17f946f",
   "metadata": {},
   "source": [
    "$\\begin{pmatrix}\n",
    "-1 & 0\\\\ \n",
    "0 & -1\n",
    "\\end{pmatrix}\n",
    "\\begin{pmatrix}\n",
    "x_{1}\\\\ \n",
    "x_{2}\n",
    "\\end{pmatrix}=\n",
    "-1\n",
    "\\begin{pmatrix}\n",
    "x_{1}\\\\ \n",
    "x_{2}\n",
    "\\end{pmatrix}\n",
    "$"
   ]
  },
  {
   "cell_type": "markdown",
   "id": "64211ba0",
   "metadata": {},
   "source": [
    "$\\begin{cases}-x_1 + 0 = -x_1 \\\\\n",
    "0 + -x_2 = -x_2\\end{cases}$"
   ]
  },
  {
   "cell_type": "markdown",
   "id": "9e2e7bb7",
   "metadata": {},
   "source": [
    "$\\begin{cases}x_1 = x_1 \\\\\n",
    "x_2 = x_2\\end{cases}$"
   ]
  },
  {
   "cell_type": "markdown",
   "id": "976b1887",
   "metadata": {},
   "source": [
    "Следовательно, вектора с любыми значениями x1, x2 будут являться собственными векторами матрицы А."
   ]
  },
  {
   "cell_type": "markdown",
   "id": "b9ff1bc5",
   "metadata": {},
   "source": [
    "**Ex.3**"
   ]
  },
  {
   "cell_type": "markdown",
   "id": "f8a05e70",
   "metadata": {},
   "source": [
    "Пусть линейный оператор задан матрицей\n",
    "\n",
    "$$A=\\begin{pmatrix}\n",
    "1 & 1\\\\ \n",
    "-1 & 3\n",
    "\\end{pmatrix}.$$\n",
    "\n",
    "Установить, является ли вектор $x=(1,1)$ собственным вектором этого линейного оператора."
   ]
  },
  {
   "cell_type": "markdown",
   "id": "d596a1a7",
   "metadata": {},
   "source": [
    "$\\begin{vmatrix}\n",
    "1 - \\lambda & 1\\\\ \n",
    "-1 & 3 - \\lambda\n",
    "\\end{vmatrix} = 0$"
   ]
  },
  {
   "cell_type": "markdown",
   "id": "2706137b",
   "metadata": {},
   "source": [
    "$(1-\\lambda)(3-\\lambda) + 1 = 0$<br>\n",
    "$4 -4\\lambda + \\lambda^2 =0$<br>\n",
    "$\\lambda = 2$"
   ]
  },
  {
   "cell_type": "markdown",
   "id": "ded60e6b",
   "metadata": {},
   "source": [
    "$\\begin{pmatrix}\n",
    "1 & 1\\\\ \n",
    "-1 & 3\n",
    "\\end{pmatrix}\n",
    "\\begin{pmatrix}\n",
    "x_{1}\\\\ \n",
    "x_{2}\n",
    "\\end{pmatrix}=\n",
    "2\n",
    "\\begin{pmatrix}\n",
    "x_{1}\\\\ \n",
    "x_{2}\n",
    "\\end{pmatrix}\n",
    "$"
   ]
  },
  {
   "cell_type": "markdown",
   "id": "423bebad",
   "metadata": {},
   "source": [
    "$\\begin {cases}x_1 + x_2 = 2x_1 \\\\\n",
    "-x_1+3x_2 = 2x_2\\end{cases}$"
   ]
  },
  {
   "cell_type": "markdown",
   "id": "c9786a09",
   "metadata": {},
   "source": [
    "$\\begin{cases} x_1 = x_2 \\\\\n",
    "x_2 = x_1 \\end{cases}$"
   ]
  },
  {
   "cell_type": "markdown",
   "id": "b1e7b24c",
   "metadata": {},
   "source": [
    "Следовательно, вектор (1,1) является собственным вектором матрицы А."
   ]
  },
  {
   "cell_type": "markdown",
   "id": "b887900a",
   "metadata": {},
   "source": [
    "**Ex.4**"
   ]
  },
  {
   "cell_type": "markdown",
   "id": "a7029b9e",
   "metadata": {},
   "source": [
    "Пусть линейный оператор задан матрицей\n",
    "\n",
    "$$A=\\begin{pmatrix}\n",
    "0 & 3 & 0\\\\ \n",
    "3 & 0 & 0\\\\\n",
    "0 & 0 & 3\n",
    "\\end{pmatrix}.$$\n",
    "\n",
    "Установить, является ли вектор $x=(3, -3, -4)$ собственным вектором этого линейного оператора."
   ]
  },
  {
   "cell_type": "markdown",
   "id": "d19b0830",
   "metadata": {},
   "source": [
    "Предположим, что вектор х является собственным вектором оператора А. Тогда:"
   ]
  },
  {
   "cell_type": "markdown",
   "id": "e587c36a",
   "metadata": {},
   "source": [
    "$\\begin{pmatrix}\n",
    "0 & 3 & 0\\\\ \n",
    "3 & 0 & 0 \\\\\n",
    "0 & 0 & 3\n",
    "\\end{pmatrix}\n",
    "\\begin{pmatrix}\n",
    "3\\\\ \n",
    "-3\\\\\n",
    "-4\n",
    "\\end{pmatrix}=\n",
    "\\lambda\n",
    "\\begin{pmatrix}\n",
    "3\\\\ \n",
    "-3\\\\\n",
    "-4\n",
    "\\end{pmatrix}\n",
    "$"
   ]
  },
  {
   "cell_type": "markdown",
   "id": "2ebd2767",
   "metadata": {},
   "source": [
    "$\\begin{cases}\n",
    "-9 = 3\\lambda \\\\\n",
    "9 = -3\\lambda \\\\\n",
    "-12 = -4 \\lambda \\end{cases}$"
   ]
  },
  {
   "cell_type": "markdown",
   "id": "23286275",
   "metadata": {},
   "source": [
    "$\\begin {cases}\n",
    "\\lambda = -3 \\\\\n",
    "\\lambda = -3 \\\\\n",
    "\\lambda = 3 \\end{cases}$"
   ]
  },
  {
   "cell_type": "markdown",
   "id": "b34093e9",
   "metadata": {},
   "source": [
    "В системе есть противоречие, $\\lambda \\in \\emptyset$, вектор не является собственным для оператора А."
   ]
  }
 ],
 "metadata": {
  "kernelspec": {
   "display_name": "Python 3 (ipykernel)",
   "language": "python",
   "name": "python3"
  },
  "language_info": {
   "codemirror_mode": {
    "name": "ipython",
    "version": 3
   },
   "file_extension": ".py",
   "mimetype": "text/x-python",
   "name": "python",
   "nbconvert_exporter": "python",
   "pygments_lexer": "ipython3",
   "version": "3.9.6"
  }
 },
 "nbformat": 4,
 "nbformat_minor": 5
}
