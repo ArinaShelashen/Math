{
 "cells": [
  {
   "cell_type": "markdown",
   "id": "771fb2d9",
   "metadata": {},
   "source": [
    "## HW 2.1"
   ]
  },
  {
   "cell_type": "markdown",
   "id": "3ecbe862",
   "metadata": {},
   "source": [
    "**Ex.1**"
   ]
  },
  {
   "cell_type": "markdown",
   "id": "8c3bd787",
   "metadata": {},
   "source": [
    "Установить, какие произведения матриц $AB$ и $BA$ определены, и найти размерности полученных матриц:\n",
    "\n",
    "   а) $A$ — матрица $4\\times 2$, $B$ — матрица $4\\times 2$;<br>\n",
    "       *Ответ: нельзя найти ни произведение АВ, ни ВА.*<br><br>\n",
    "       \n",
    "   б) $A$ — матрица $2\\times 5$, $B$ — матрица $5\\times 3$;<br>\n",
    "   *Ответ: АВ = С ($2\\times3$)*<br><br>\n",
    "   \n",
    "   в) $A$ — матрица $8\\times 3$, $B$ — матрица $3\\times 8$;<br>\n",
    "   *Ответ: AB = C ($8\\times8$);*<br>\n",
    "   *BA = D ($3\\times3$).*<br><br>\n",
    "   \n",
    "   г) $A$ — квадратная матрица $4\\times 4$, $B$ — квадратная матрица $4\\times 4$.<br>\n",
    "   *Ответ: АВ = С ($4\\times4$);<br>\n",
    "   ВА = D ($4\\times4$).*\n",
    "   "
   ]
  },
  {
   "cell_type": "markdown",
   "id": "e86155d7",
   "metadata": {},
   "source": [
    "**Ex.2**"
   ]
  },
  {
   "cell_type": "markdown",
   "id": "cc64514e",
   "metadata": {},
   "source": [
    "Найти сумму и произведение матриц"
   ]
  },
  {
   "cell_type": "markdown",
   "id": "e42a2d47",
   "metadata": {},
   "source": [
    " $A + B =\\begin{pmatrix}\n",
    "1 & -2\\\\ \n",
    "3 & 0\n",
    "\\end{pmatrix}$ + $\\begin{pmatrix}\n",
    "4 & -1\\\\ \n",
    "0 & 5\n",
    "\\end{pmatrix}$ =\n",
    " $\\begin{pmatrix}\n",
    "5 & -3\\\\ \n",
    "3 & 5\n",
    "\\end{pmatrix}$"
   ]
  },
  {
   "cell_type": "markdown",
   "id": "59ad7f19",
   "metadata": {},
   "source": [
    " $A \\times B =\\begin{pmatrix}\n",
    "1 & -2\\\\ \n",
    "3 & 0\n",
    "\\end{pmatrix} \\times \\begin{pmatrix}\n",
    "4 & -1\\\\ \n",
    "0 & 5\n",
    "\\end{pmatrix} =\n",
    " \\begin{pmatrix}\n",
    "(4+0) & (-1-10)\\\\ \n",
    "(12+0) & (-3+0)\n",
    "\\end{pmatrix}  =\n",
    " \\begin{pmatrix}\n",
    "4 & -11\\\\ \n",
    "12 & -3\n",
    "\\end{pmatrix}$"
   ]
  },
  {
   "cell_type": "code",
   "execution_count": 84,
   "id": "71f47420",
   "metadata": {},
   "outputs": [],
   "source": [
    "import numpy as np"
   ]
  },
  {
   "cell_type": "code",
   "execution_count": 85,
   "id": "41d0ad5c",
   "metadata": {},
   "outputs": [],
   "source": [
    "A = np.array([[1,-2], [3,0]])\n",
    "B = np.array([[4,-1], [0,5]])"
   ]
  },
  {
   "cell_type": "code",
   "execution_count": 86,
   "id": "656580a5",
   "metadata": {},
   "outputs": [
    {
     "data": {
      "text/plain": [
       "array([[ 5, -3],\n",
       "       [ 3,  5]])"
      ]
     },
     "execution_count": 86,
     "metadata": {},
     "output_type": "execute_result"
    }
   ],
   "source": [
    "A+B"
   ]
  },
  {
   "cell_type": "code",
   "execution_count": 87,
   "id": "6f6998f9",
   "metadata": {},
   "outputs": [
    {
     "data": {
      "text/plain": [
       "array([[  4, -11],\n",
       "       [ 12,  -3]])"
      ]
     },
     "execution_count": 87,
     "metadata": {},
     "output_type": "execute_result"
    }
   ],
   "source": [
    "A@B"
   ]
  },
  {
   "cell_type": "markdown",
   "id": "caf6fdeb",
   "metadata": {},
   "source": [
    "**Ex.3**"
   ]
  },
  {
   "cell_type": "markdown",
   "id": "304f6c57",
   "metadata": {},
   "source": [
    "Из закономерностей сложения и умножения матриц на число можно сделать вывод, что матрицы одного размера образуют линейное пространство. Вычислить линейную комбинацию $3A-2B+4C$ для матриц $A=\\begin{pmatrix}\n",
    "1 & 7\\\\ \n",
    "3 & -6\n",
    "\\end{pmatrix}$, $B=\\begin{pmatrix}\n",
    "0 & 5\\\\ \n",
    "2 & -1\n",
    "\\end{pmatrix}$, $C=\\begin{pmatrix}\n",
    "2 & -4\\\\ \n",
    "1 & 1\n",
    "\\end{pmatrix}.$"
   ]
  },
  {
   "cell_type": "markdown",
   "id": "a9d01da3",
   "metadata": {},
   "source": [
    "$3A-2B+4C = 3 \\times \\begin{pmatrix}\n",
    "1 & 7\\\\ \n",
    "3 & -6\n",
    "\\end{pmatrix} - 2\\times \\begin{pmatrix}\n",
    "0 & 5\\\\ \n",
    "2 & -1\n",
    "\\end{pmatrix} + 4\\times \\begin{pmatrix}\n",
    "2 & -4\\\\ \n",
    "1 & 1\n",
    "\\end{pmatrix} = \\\\\n",
    "= \\begin{pmatrix}\n",
    "3 & 21\\\\ \n",
    "9 & -18\n",
    "\\end{pmatrix} + \\begin{pmatrix}\n",
    "0 & -10\\\\ \n",
    "-4 & 2\n",
    "\\end{pmatrix} + \\begin{pmatrix}\n",
    "8 & -16\\\\ \n",
    "4 & 4\n",
    "\\end{pmatrix} = \\\\\n",
    "= \\begin{pmatrix}\n",
    "11 & -5\\\\ \n",
    "9 & -12\n",
    "\\end{pmatrix}\n",
    "$"
   ]
  },
  {
   "cell_type": "code",
   "execution_count": 88,
   "id": "95c6f4bc",
   "metadata": {},
   "outputs": [],
   "source": [
    "A = np.array([[1,7], [3,-6]])\n",
    "B = np.array([[0,5], [2,-1]])\n",
    "C = np.array([[2,-4], [1,1]])"
   ]
  },
  {
   "cell_type": "markdown",
   "id": "e7232372",
   "metadata": {},
   "source": [
    "3*A-2*B+4*C"
   ]
  },
  {
   "cell_type": "markdown",
   "id": "e9ec25c4",
   "metadata": {},
   "source": [
    "**Ex.4**"
   ]
  },
  {
   "cell_type": "markdown",
   "id": "78341a17",
   "metadata": {},
   "source": [
    "Дана матрица $A=\\begin{pmatrix}\n",
    "4 & 1\\\\ \n",
    "5 & -2\\\\ \n",
    "2 & 3\n",
    "\\end{pmatrix}$.\n",
    "Вычислить $AA^{T}$ и $A^{T}A$."
   ]
  },
  {
   "cell_type": "markdown",
   "id": "1a221a71",
   "metadata": {},
   "source": [
    "$A^T = \\begin{pmatrix}\n",
    "4 & 5 & 2 \\\\\n",
    "1 & -2 & 3\n",
    "\\end{pmatrix}$"
   ]
  },
  {
   "cell_type": "markdown",
   "id": "0a2e213c",
   "metadata": {},
   "source": [
    "$AA^T = \\begin{pmatrix}\n",
    "4 & 1\\\\ \n",
    "5 & -2\\\\ \n",
    "2 & 3\n",
    "\\end{pmatrix} \\times \\begin{pmatrix}\n",
    "4 & 5 & 2 \\\\\n",
    "1 & -2 & 3\n",
    "\\end{pmatrix} = \\begin{pmatrix}\n",
    "(16+1) & (20-2) & (8+3) \\\\\n",
    "(20-2) & (25+4) & (10-6) \\\\\n",
    "(8+3) & (10-6) & (4+9)\n",
    "\\end{pmatrix} = \n",
    "\\begin{pmatrix}\n",
    "17 & 18 & 11 \\\\\n",
    "18 & 29 & 4 \\\\\n",
    "11 & 4 & 13\n",
    "\\end{pmatrix}\n",
    "$"
   ]
  },
  {
   "cell_type": "markdown",
   "id": "058e9376",
   "metadata": {},
   "source": [
    "$A^TA = \\begin{pmatrix}\n",
    "4 & 5 & 2 \\\\\n",
    "1 & -2 & 3\n",
    "\\end{pmatrix} \\times\n",
    "\\begin{pmatrix}\n",
    "4 & 1\\\\ \n",
    "5 & -2\\\\ \n",
    "2 & 3\n",
    "\\end{pmatrix} = \n",
    "\\begin{pmatrix}\n",
    "(16+25+4) & (4-10+6)\\\\\n",
    "(4-10+6) & (1+4+9)\n",
    "\\end{pmatrix}=\n",
    "\\begin{pmatrix}\n",
    "45 & 0\\\\\n",
    "0 & 14\n",
    "\\end{pmatrix}\n",
    "$"
   ]
  },
  {
   "cell_type": "code",
   "execution_count": 89,
   "id": "24023634",
   "metadata": {},
   "outputs": [],
   "source": [
    "A = np.array([[4,1],[5,-2],[2,3]])"
   ]
  },
  {
   "cell_type": "code",
   "execution_count": 90,
   "id": "d639b9cd",
   "metadata": {},
   "outputs": [],
   "source": [
    "AT = A.T"
   ]
  },
  {
   "cell_type": "code",
   "execution_count": 91,
   "id": "e59d7317",
   "metadata": {},
   "outputs": [
    {
     "data": {
      "text/plain": [
       "array([[17, 18, 11],\n",
       "       [18, 29,  4],\n",
       "       [11,  4, 13]])"
      ]
     },
     "execution_count": 91,
     "metadata": {},
     "output_type": "execute_result"
    }
   ],
   "source": [
    "A.dot(AT)"
   ]
  },
  {
   "cell_type": "code",
   "execution_count": 92,
   "id": "099451ed",
   "metadata": {},
   "outputs": [
    {
     "data": {
      "text/plain": [
       "array([[45,  0],\n",
       "       [ 0, 14]])"
      ]
     },
     "execution_count": 92,
     "metadata": {},
     "output_type": "execute_result"
    }
   ],
   "source": [
    "AT.dot(A)"
   ]
  },
  {
   "cell_type": "markdown",
   "id": "e8e78ccc",
   "metadata": {},
   "source": [
    "**Ex.5***"
   ]
  },
  {
   "cell_type": "markdown",
   "id": "faf05dca",
   "metadata": {},
   "source": [
    "Написать на Python функцию для перемножения двух произвольных матриц, не используя NumPy."
   ]
  },
  {
   "cell_type": "code",
   "execution_count": 93,
   "id": "739e85e7",
   "metadata": {},
   "outputs": [],
   "source": [
    "def matrix_multiplication(a: list, b: list):\n",
    "  \n",
    "    try:\n",
    "        for i in range(len(a)):\n",
    "            if len(a[i]) != len(a[0]):\n",
    "                print('First matrix initialized improperly.')\n",
    "                return\n",
    "        for i in range(len(b)):\n",
    "            if len(b[i]) != len(b[0]):\n",
    "                print('Second matrix initialized improperly.')\n",
    "                return\n",
    "        c = []\n",
    "        d = []\n",
    "\n",
    "        rowsa = len(a)\n",
    "        columnsa = len(b)\n",
    "        columnsb  = len(b[0])\n",
    "        if rowsa != columnsb:\n",
    "            print('Inappropriate dimensions of the matrices')\n",
    "            return\n",
    "\n",
    "        for x in range(rowsa): \n",
    "            for z in range(columnsb):\n",
    "                num = 0\n",
    "                for y in range(columnsa): \n",
    "                    num += a[x][y]*b[y][z]\n",
    "                d.append(num)\n",
    "            c.append(d)\n",
    "            d = []\n",
    "        return c            \n",
    "    except TypeError:\n",
    "        print('Initialize matrix as list of lists.')\n",
    "    else:\n",
    "        print('Something went wrong :(')"
   ]
  },
  {
   "cell_type": "code",
   "execution_count": 94,
   "id": "c4b9ba00",
   "metadata": {},
   "outputs": [
    {
     "data": {
      "text/plain": [
       "[[4, -11], [12, -3]]"
      ]
     },
     "execution_count": 94,
     "metadata": {},
     "output_type": "execute_result"
    }
   ],
   "source": [
    "A = [[1,-2], [3,0]]\n",
    "B = [[4,-1], [0,5]]\n",
    "matrix_multiplication(A, B)"
   ]
  },
  {
   "cell_type": "markdown",
   "id": "18adc8c7",
   "metadata": {},
   "source": [
    "## HW 2.2"
   ]
  },
  {
   "cell_type": "markdown",
   "id": "3589cc69",
   "metadata": {},
   "source": [
    "**Ex.1**"
   ]
  },
  {
   "cell_type": "markdown",
   "id": "63eb38f9",
   "metadata": {},
   "source": [
    "Вычислить определитель:\n",
    "\n",
    "   a)\n",
    "\n",
    "$\\begin{vmatrix}\n",
    "sinx & -cosx\\\\ \n",
    "cosx & sinx\n",
    "\\end{vmatrix} = (sinx)^2 + (cosx)^2 = 0.5(1-cos2x) + 0.5(1+cos2x) = 0.5\\cdot2 = 1$"
   ]
  },
  {
   "cell_type": "code",
   "execution_count": 95,
   "id": "5f07be03",
   "metadata": {},
   "outputs": [
    {
     "data": {
      "text/plain": [
       "1.0"
      ]
     },
     "execution_count": 95,
     "metadata": {},
     "output_type": "execute_result"
    }
   ],
   "source": [
    "x = 21\n",
    "A = np.array([[np.sin(x), -np.cos(x)], [np.cos(x), np.sin(x)]])\n",
    "np.linalg.det(A)"
   ]
  },
  {
   "cell_type": "markdown",
   "id": "6bf4014c",
   "metadata": {},
   "source": [
    "б)\n",
    "    \n",
    "$\\begin{vmatrix}\n",
    "4 & 2 & 3\\\\ \n",
    "0 & 5 & 1\\\\ \n",
    "0 & 0 & 9\n",
    "\\end{vmatrix} = 4\\cdot \\begin{vmatrix}5 & 1\\\\ 0 & 9 \\end{vmatrix} - 0 + 0 = 4\\cdot(5\\cdot9 - 0\\cdot 1) = 4\\cdot45 = 180$"
   ]
  },
  {
   "cell_type": "code",
   "execution_count": 96,
   "id": "be90128c",
   "metadata": {},
   "outputs": [
    {
     "data": {
      "text/plain": [
       "180.0"
      ]
     },
     "execution_count": 96,
     "metadata": {},
     "output_type": "execute_result"
    }
   ],
   "source": [
    "B = np.array([[4, 2, 3], [0, 5, 1], [0, 0, 9]])\n",
    "np.linalg.det(B)"
   ]
  },
  {
   "cell_type": "markdown",
   "id": "d897d1e7",
   "metadata": {},
   "source": [
    "  в)\n",
    "\n",
    "$\\begin{vmatrix}\n",
    "1 & 2 & 3\\\\ \n",
    "4 & 5 & 6\\\\ \n",
    "7 & 8 & 9\n",
    "\\end{vmatrix} = 7\\cdot\\begin{vmatrix}2 & 3\\\\ 5 & 6\\end{vmatrix} - 8\\cdot\\begin{vmatrix}1 & 3\\\\ 4 & 6\\end{vmatrix} + 9\\cdot\n",
    "\\begin{vmatrix}1 & 2\\\\ 4 & 5\\end{vmatrix} = 7\\cdot(12 - 15) - 8\\cdot(6-12) + 9\\cdot(5 -  8)=-21 + 48-27 =0$"
   ]
  },
  {
   "cell_type": "code",
   "execution_count": 97,
   "id": "893b3eeb",
   "metadata": {},
   "outputs": [
    {
     "data": {
      "text/plain": [
       "0.0"
      ]
     },
     "execution_count": 97,
     "metadata": {},
     "output_type": "execute_result"
    }
   ],
   "source": [
    "C = np.array([[1, 2, 3], [4, 5, 6], [7, 8, 9]])\n",
    "np.linalg.det(C)"
   ]
  },
  {
   "cell_type": "markdown",
   "id": "d5961ff2",
   "metadata": {},
   "source": [
    "**Ex.2**"
   ]
  },
  {
   "cell_type": "markdown",
   "id": "bb7ba8e6",
   "metadata": {},
   "source": [
    "Определитель матрицы $A$ равен $4$. Найти:\n",
    "\n",
    "   а) $det(A^{2})$;<br>\n",
    " Если матрицу можно умножить саму на себя, значит она квадратная. Для двух квадратных матриц одинакового размера справедливо следующее равенство:\n",
    "$$det(AB)=detA\\cdot detB.$$\n",
    "Значит <br>\n",
    "$det(A^2) = detA\\cdot detA = detA^2 = 4^2 = 16$"
   ]
  },
  {
   "cell_type": "markdown",
   "id": "902bebf4",
   "metadata": {},
   "source": [
    "   б) $det(A^{T}) = 4$<br>\n",
    "  Определитель транспонированной матрицы равен определителю исходной матрицы"
   ]
  },
  {
   "cell_type": "markdown",
   "id": "df7f1bf3",
   "metadata": {},
   "source": [
    "  в) $det(2A) = 2^ndetA=2^n4=2^{n+2}$,<br>\n",
    "  где n - размер матрицы (кол-во строк или столбцов).<br>\n",
    "  При домножении строки/столбца матрицы на число, определитель также домножается на это число. Т.е. если мы домножаем n строк на 2, определитель мы должны домножить на $2^n$."
   ]
  },
  {
   "cell_type": "markdown",
   "id": "f61065ba",
   "metadata": {},
   "source": [
    "**Ex.3**"
   ]
  },
  {
   "cell_type": "markdown",
   "id": "fe5287de",
   "metadata": {},
   "source": [
    "Доказать, что матрица\n",
    "\n",
    "$$\\begin{pmatrix}\n",
    "-2 & 7 & -3\\\\ \n",
    "4 & -14 & 6\\\\ \n",
    "-3 & 7 & 13\n",
    "\\end{pmatrix}$$\n",
    "   \n",
    "вырожденная."
   ]
  },
  {
   "cell_type": "markdown",
   "id": "8d365286",
   "metadata": {},
   "source": [
    "Вторая строка линейно зависима от первой. Значит определитель равен нулю.<br><br>\n",
    "Прибавим ко второй строке первую, домноженную на 2:<br>\n",
    "$\\begin{pmatrix}\n",
    "-2 & 7 & -3\\\\ \n",
    "4 & -14 & 6\\\\ \n",
    "-3 & 7 & 13\n",
    "\\end{pmatrix}$ = $\\begin{pmatrix}\n",
    "-2 & 7 & -3\\\\ \n",
    "0 & 0 & 0\\\\ \n",
    "-3 & 7 & 13\n",
    "\\end{pmatrix}$<br>\n",
    "Вторая строка обращается в ноль. Определитель матрицы, содержащей нулевую строку, равен нулю. Значит матрица вырожденная."
   ]
  },
  {
   "cell_type": "markdown",
   "id": "7fd3d161",
   "metadata": {},
   "source": [
    "**Ex. 4**"
   ]
  },
  {
   "cell_type": "markdown",
   "id": "4820bee5",
   "metadata": {},
   "source": [
    "Найти ранг матрицы:\n",
    "\n",
    "   а) $\\begin{pmatrix}\n",
    "1 & 2 & 3\\\\ \n",
    "1 & 1 & 1\\\\ \n",
    "2 & 3 & 4\n",
    "\\end{pmatrix}=\n",
    "\\begin{pmatrix}\n",
    "1 & 2 & 3\\\\ \n",
    "1 & 1 & 1\\\\ \n",
    "0 & 1 & 2\n",
    "\\end{pmatrix}=\n",
    "\\begin{pmatrix}\n",
    "1 & 1 & 1\\\\ \n",
    "1 & 2 & 3\\\\ \n",
    "0 & 1 & 2\n",
    "\\end{pmatrix}=\n",
    "\\begin{pmatrix}\n",
    "1 & 1 & 1\\\\ \n",
    "0 & 1 & 2\\\\ \n",
    "0 & 1 & 2\n",
    "\\end{pmatrix}=\n",
    "\\begin{pmatrix}\n",
    "1 & 2 & 3\\\\ \n",
    "0 & 1 & 2\\\\ \n",
    "0 & 0 & 0\n",
    "\\end{pmatrix}=\n",
    "\\begin{pmatrix}\n",
    "1 & 2 & 3\\\\ \n",
    "0 & 1 & 2\n",
    "\\end{pmatrix}=\n",
    "\\begin{pmatrix}\n",
    "1 & 2 & 1\\\\ \n",
    "0 & 1 & 1\n",
    "\\end{pmatrix}=\n",
    "\\begin{pmatrix}\n",
    "1 & 1 & 1\\\\ \n",
    "0 & 1 & 1\n",
    "\\end{pmatrix}=\n",
    "\\begin{pmatrix}\n",
    "1 & 1 & 0\\\\ \n",
    "0 & 1 & 0\n",
    "\\end{pmatrix}=\n",
    "\\begin{pmatrix}\n",
    "1 & 1\\\\ \n",
    "0 & 1\n",
    "\\end{pmatrix}$<br>\n",
    "<u>Ранг матрицы: 2</u>"
   ]
  },
  {
   "cell_type": "code",
   "execution_count": 98,
   "id": "fbd785e5",
   "metadata": {},
   "outputs": [
    {
     "data": {
      "text/plain": [
       "2"
      ]
     },
     "execution_count": 98,
     "metadata": {},
     "output_type": "execute_result"
    }
   ],
   "source": [
    "A = np.array([[1, 2, 3], [1, 1, 1], [2, 3, 4]])\n",
    "np.linalg.matrix_rank(A)"
   ]
  },
  {
   "cell_type": "markdown",
   "id": "28b64a26",
   "metadata": {},
   "source": [
    "б) $\\begin{pmatrix}\n",
    "0 & 0 & 2 & 1\\\\ \n",
    "0 & 0 & 2 & 2\\\\ \n",
    "0 & 0 & 4 & 3\\\\ \n",
    "2 & 3 & 5 & 6\n",
    "\\end{pmatrix}=\n",
    "\\begin{pmatrix}\n",
    "0 & 0 & 2 & 1\\\\ \n",
    "0 & 0 & 2 & 2\\\\ \n",
    "0 & 0 & 2 & 1\\\\ \n",
    "2 & 3 & 5 & 6\n",
    "\\end{pmatrix}=\n",
    "\\begin{pmatrix}\n",
    "0 & 0 & 0 & 0\\\\ \n",
    "0 & 0 & 2 & 2\\\\ \n",
    "0 & 0 & 2 & 1\\\\ \n",
    "2 & 3 & 5 & 6\n",
    "\\end{pmatrix}=\n",
    "\\begin{pmatrix} \n",
    "0 & 0 & 2 & 2\\\\ \n",
    "0 & 0 & 2 & 1\\\\ \n",
    "2 & 3 & 5 & 6\n",
    "\\end{pmatrix}=\n",
    "\\begin{pmatrix} \n",
    "0 & 0 & 0 & 1\\\\ \n",
    "0 & 0 & 2 & 1\\\\ \n",
    "2 & 3 & 5 & 6\n",
    "\\end{pmatrix}=\n",
    "\\begin{pmatrix} \n",
    "0 & 0 & 0 & 1\\\\ \n",
    "0 & 0 & 2 & 1\\\\ \n",
    "0 & 3 & 5 & 6\n",
    "\\end{pmatrix}=\n",
    "\\begin{pmatrix}\n",
    "0 & 0 & 1\\\\ \n",
    "0 & 2 & 1\\\\ \n",
    "3 & 5 & 6\n",
    "\\end{pmatrix}$<br>\n",
    "<u>Ранг матрицы: 3</u>"
   ]
  },
  {
   "cell_type": "code",
   "execution_count": 99,
   "id": "de9b2055",
   "metadata": {},
   "outputs": [
    {
     "data": {
      "text/plain": [
       "3"
      ]
     },
     "execution_count": 99,
     "metadata": {},
     "output_type": "execute_result"
    }
   ],
   "source": [
    "A = np.array([[0, 0, 2, 1], [0, 0, 2 , 2], [0, 0, 4, 3], [2, 3, 5, 6]])\n",
    "np.linalg.matrix_rank(A)"
   ]
  }
 ],
 "metadata": {
  "kernelspec": {
   "display_name": "Python 3 (ipykernel)",
   "language": "python",
   "name": "python3"
  },
  "language_info": {
   "codemirror_mode": {
    "name": "ipython",
    "version": 3
   },
   "file_extension": ".py",
   "mimetype": "text/x-python",
   "name": "python",
   "nbconvert_exporter": "python",
   "pygments_lexer": "ipython3",
   "version": "3.9.6"
  }
 },
 "nbformat": 4,
 "nbformat_minor": 5
}
