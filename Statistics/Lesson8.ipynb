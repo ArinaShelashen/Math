{
 "cells": [
  {
   "cell_type": "code",
   "execution_count": 34,
   "id": "0d4cb3f3",
   "metadata": {},
   "outputs": [],
   "source": [
    "import numpy as np"
   ]
  },
  {
   "cell_type": "code",
   "execution_count": 35,
   "id": "5e1d70aa",
   "metadata": {},
   "outputs": [],
   "source": [
    "f = np.array([173, 175, 180, 178, 177, 185, 183, 182])\n",
    "h = np.array([177, 179, 180, 188, 177, 172, 171, 184, 180])\n",
    "w = np.array([172, 173, 169, 177, 166, 180, 178, 177, 172, 166])"
   ]
  },
  {
   "cell_type": "code",
   "execution_count": 36,
   "id": "5292b098",
   "metadata": {},
   "outputs": [],
   "source": [
    "k = 3\n",
    "n = len(f) + len(h) + len(w)\n",
    "f_ave = f.mean()\n",
    "h_ave = h.mean()\n",
    "w_ave = w.mean()\n",
    "ave = (f_ave * len(f) + h_ave * len(h) + w_ave * len(w))/n"
   ]
  },
  {
   "cell_type": "code",
   "execution_count": 37,
   "id": "11310545",
   "metadata": {},
   "outputs": [],
   "source": [
    "all = np.concatenate((f, h, w))"
   ]
  },
  {
   "cell_type": "code",
   "execution_count": 38,
   "id": "9f4f214e",
   "metadata": {},
   "outputs": [],
   "source": [
    "S = 0\n",
    "for i in all:\n",
    "    S += (i - ave)**2"
   ]
  },
  {
   "cell_type": "code",
   "execution_count": 39,
   "id": "b9e3fbf7",
   "metadata": {},
   "outputs": [],
   "source": [
    "S_f = (f_ave - ave)**2 * len(f) + (h_ave - ave)**2 * len(h) + (w_ave - ave)**2 * len(w)"
   ]
  },
  {
   "cell_type": "code",
   "execution_count": 40,
   "id": "54bcb140",
   "metadata": {},
   "outputs": [
    {
     "data": {
      "text/plain": [
       "568.875"
      ]
     },
     "execution_count": 40,
     "metadata": {},
     "output_type": "execute_result"
    }
   ],
   "source": [
    "S_res = ((f - f_ave)**2).sum() + ((h - h_ave)**2).sum() + ((w - w_ave)**2).sum()\n",
    "S_res"
   ]
  },
  {
   "cell_type": "code",
   "execution_count": 41,
   "id": "4a7117de",
   "metadata": {},
   "outputs": [
    {
     "data": {
      "text/plain": [
       "True"
      ]
     },
     "execution_count": 41,
     "metadata": {},
     "output_type": "execute_result"
    }
   ],
   "source": [
    "round(S, 5) == round((S_f + S_res), 5)"
   ]
  },
  {
   "cell_type": "code",
   "execution_count": 42,
   "id": "83af0d09",
   "metadata": {},
   "outputs": [
    {
     "name": "stdout",
     "output_type": "stream",
     "text": [
      "var_gen = 23860.016671942587\n",
      "var_f = 23926.79399219814\n",
      "var_res = 13484.115234375\n"
     ]
    },
    {
     "data": {
      "text/plain": [
       "1.7744430076659137"
      ]
     },
     "execution_count": 42,
     "metadata": {},
     "output_type": "execute_result"
    }
   ],
   "source": [
    "var_gen = S**2/(n-1)\n",
    "var_f = S_f**2/(k - 1)\n",
    "var_res = S_res**2/(n - k)\n",
    "print(f'var_gen = {var_gen}\\nvar_f = {var_f}\\nvar_res = {var_res}')\n",
    "F_h = var_f/var_res\n",
    "F_h"
   ]
  },
  {
   "cell_type": "code",
   "execution_count": 43,
   "id": "7eed198e",
   "metadata": {},
   "outputs": [
    {
     "data": {
      "text/plain": [
       "True"
      ]
     },
     "execution_count": 43,
     "metadata": {},
     "output_type": "execute_result"
    }
   ],
   "source": [
    "F_crit = 3.40\n",
    "F_h < F_crit"
   ]
  },
  {
   "cell_type": "markdown",
   "id": "2c0ebd71",
   "metadata": {},
   "source": [
    "Различие зарплат статистически незначимо"
   ]
  }
 ],
 "metadata": {
  "kernelspec": {
   "display_name": "Python 3 (ipykernel)",
   "language": "python",
   "name": "python3"
  },
  "language_info": {
   "codemirror_mode": {
    "name": "ipython",
    "version": 3
   },
   "file_extension": ".py",
   "mimetype": "text/x-python",
   "name": "python",
   "nbconvert_exporter": "python",
   "pygments_lexer": "ipython3",
   "version": "3.9.6"
  }
 },
 "nbformat": 4,
 "nbformat_minor": 5
}
