{
 "cells": [
  {
   "cell_type": "markdown",
   "id": "94bc9f31",
   "metadata": {},
   "source": [
    "## Урок 1. Случайные события. Условная вероятность. Формула Байеса. Независимые испытания"
   ]
  },
  {
   "cell_type": "markdown",
   "id": "37c7c719",
   "metadata": {},
   "source": [
    "**1a. Из колоды в 52 карты извлекаются случайным образом 4 карты. a) Найти вероятность того, что все карты – крести.**"
   ]
  },
  {
   "cell_type": "code",
   "execution_count": 1,
   "id": "547f2d0d",
   "metadata": {},
   "outputs": [],
   "source": [
    "from math import factorial"
   ]
  },
  {
   "cell_type": "code",
   "execution_count": 2,
   "id": "1f5caad2",
   "metadata": {},
   "outputs": [],
   "source": [
    "def comb(n, k):\n",
    "    return int(factorial(n) / (factorial(k) * factorial(n - k)))"
   ]
  },
  {
   "cell_type": "code",
   "execution_count": 6,
   "id": "af42db8b",
   "metadata": {},
   "outputs": [
    {
     "data": {
      "text/plain": [
       "0.00264"
      ]
     },
     "execution_count": 6,
     "metadata": {},
     "output_type": "execute_result"
    }
   ],
   "source": [
    "p_1a = round(comb(13,4)/comb(52,4), 5)\n",
    "p_1a"
   ]
  },
  {
   "cell_type": "markdown",
   "id": "ca50bf16",
   "metadata": {},
   "source": [
    "**1b. Из колоды в 52 карты извлекаются случайным образом 4 карты. б) Найти вероятность, что среди 4-х карт окажется хотя бы один туз.**"
   ]
  },
  {
   "cell_type": "code",
   "execution_count": 7,
   "id": "94ab194e",
   "metadata": {},
   "outputs": [
    {
     "data": {
      "text/plain": [
       "0.28125999999999995"
      ]
     },
     "execution_count": 7,
     "metadata": {},
     "output_type": "execute_result"
    }
   ],
   "source": [
    "p_1b_opposite = round(comb(48,4)/comb(52,4), 5)\n",
    "p_1b = 1 - p_1b_opposite\n",
    "p_1b"
   ]
  },
  {
   "cell_type": "markdown",
   "id": "c6366feb",
   "metadata": {},
   "source": [
    "**2. На входной двери подъезда установлен кодовый замок, содержащий десять кнопок с цифрами от 0 до 9. Код содержит три цифры, которые нужно нажать одновременно. Какова вероятность того, что человек, не знающий код, откроет дверь с первой попытки?**"
   ]
  },
  {
   "cell_type": "code",
   "execution_count": 8,
   "id": "9d449b95",
   "metadata": {},
   "outputs": [],
   "source": [
    "def arrang(n, k):\n",
    "    return int(factorial(n) / factorial(n - k))"
   ]
  },
  {
   "cell_type": "code",
   "execution_count": 9,
   "id": "0a6870af",
   "metadata": {},
   "outputs": [
    {
     "data": {
      "text/plain": [
       "0.00139"
      ]
     },
     "execution_count": 9,
     "metadata": {},
     "output_type": "execute_result"
    }
   ],
   "source": [
    "p_2 = round(1/arrang(10,3), 5)\n",
    "p_2"
   ]
  },
  {
   "cell_type": "markdown",
   "id": "ba1287d6",
   "metadata": {},
   "source": [
    "**3. В ящике имеется 15 деталей, из которых 9 окрашены. Рабочий случайным образом извлекает 3 детали. Какова вероятность того, что все извлеченные детали окрашены?**"
   ]
  },
  {
   "cell_type": "code",
   "execution_count": 10,
   "id": "da54be87",
   "metadata": {},
   "outputs": [
    {
     "data": {
      "text/plain": [
       "0.18461538461538463"
      ]
     },
     "execution_count": 10,
     "metadata": {},
     "output_type": "execute_result"
    }
   ],
   "source": [
    "p_3 = comb(9,3)/comb(15,3)\n",
    "p_3"
   ]
  },
  {
   "cell_type": "code",
   "execution_count": 12,
   "id": "386128b7",
   "metadata": {},
   "outputs": [
    {
     "data": {
      "text/plain": [
       "0.1846153846153846"
      ]
     },
     "execution_count": 12,
     "metadata": {},
     "output_type": "execute_result"
    }
   ],
   "source": [
    "# parts = 15\n",
    "# dyed = 9\n",
    "# num = 3\n",
    "# p_3 = (9/15)*(8/14)*(7/13)\n",
    "# p_3\n",
    "\n",
    "def dyed_parts(parts, dyed, num):\n",
    "    p_3 = 1\n",
    "    while num > 0:\n",
    "        p_3 = p_3*dyed/parts\n",
    "        dyed = dyed - 1\n",
    "        parts = parts - 1\n",
    "        num = num - 1\n",
    "    return p_3\n",
    "\n",
    "dyed_parts(15, 9, 3)"
   ]
  },
  {
   "cell_type": "markdown",
   "id": "c8550419",
   "metadata": {},
   "source": [
    "**4.В лотерее 100 билетов. Из них 2 выигрышных. Какова вероятность того, что 2 приобретенных билета окажутся выигрышными?**"
   ]
  },
  {
   "cell_type": "code",
   "execution_count": 13,
   "id": "38461c0c",
   "metadata": {},
   "outputs": [
    {
     "data": {
      "text/plain": [
       "0.00020202020202020202"
      ]
     },
     "execution_count": 13,
     "metadata": {},
     "output_type": "execute_result"
    }
   ],
   "source": [
    "p_4 = comb(2,2)/comb(100,2)\n",
    "p_4"
   ]
  },
  {
   "cell_type": "markdown",
   "id": "309c7b62",
   "metadata": {},
   "source": [
    "**5. На соревновании по биатлону один из трех спортсменов стреляет и попадает в мишень. Вероятность попадания для первого спортсмена равна 0.9, для второго — 0.8, для третьего — 0.6. Найти вероятность того, что выстрел произведен: a). первым спортсменом б). вторым спортсменом в). третьим спортсменом.**"
   ]
  },
  {
   "cell_type": "code",
   "execution_count": 23,
   "id": "06cf02de",
   "metadata": {},
   "outputs": [
    {
     "name": "stdout",
     "output_type": "stream",
     "text": [
      "Вероятность того, что выстрел произведён первым спортсменом - 0.391,\n",
      " вторым - 0.348, \n",
      " третьим - 0.261.\n"
     ]
    }
   ],
   "source": [
    "n = 3\n",
    "p_AB1 = 0.9\n",
    "p_AB2 = 0.8\n",
    "p_AB3 = 0.6\n",
    "p_B = 1/n\n",
    "p_A = p_B*(p_AB1 + p_AB2 + p_AB3)\n",
    "\n",
    "# Для расчёта апостериорной вероятности применяем формулу Байеса\n",
    "\n",
    "p_5a = round(p_B*p_AB1/p_A, 3)\n",
    "p_5b = round(p_B*p_AB2/p_A, 3)\n",
    "p_5c = round(p_B*p_AB3/p_A, 3)\n",
    "print(f'Вероятность того, что выстрел произведён первым спортсменом - {p_5a},\\n вторым - {p_5b}, \\n третьим - {p_5c}.')"
   ]
  }
 ],
 "metadata": {
  "kernelspec": {
   "display_name": "Python 3 (ipykernel)",
   "language": "python",
   "name": "python3"
  },
  "language_info": {
   "codemirror_mode": {
    "name": "ipython",
    "version": 3
   },
   "file_extension": ".py",
   "mimetype": "text/x-python",
   "name": "python",
   "nbconvert_exporter": "python",
   "pygments_lexer": "ipython3",
   "version": "3.9.6"
  }
 },
 "nbformat": 4,
 "nbformat_minor": 5
}
