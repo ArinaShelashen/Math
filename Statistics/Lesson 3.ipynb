{
 "cells": [
  {
   "cell_type": "markdown",
   "id": "2fa54bae",
   "metadata": {},
   "source": [
    "**1. Даны значения зарплат из выборки выпускников: 100, 80, 75, 77, 89, 33, 45, 25, 65, 17, 30, 24, 57, 55, 70, 75, 65, 84, 90, 150. Посчитать (желательно без использования статистических методов наподобие std, var, mean) среднее арифметическое, среднее квадратичное отклонение, смещенную и несмещенную оценки дисперсий, первый и третий квартили, интерквартильное расстояние. Найти выбросы в выборке, используя для этого \"усы\" из boxplot. В этой задаче можно использовать статистические функции.**"
   ]
  },
  {
   "cell_type": "code",
   "execution_count": 53,
   "id": "2babeb4a",
   "metadata": {},
   "outputs": [],
   "source": [
    "from math import sqrt, factorial\n",
    "import pandas as pd\n",
    "import seaborn as sns\n",
    "import matplotlib.pyplot as plt"
   ]
  },
  {
   "cell_type": "code",
   "execution_count": 5,
   "id": "995a340b",
   "metadata": {},
   "outputs": [],
   "source": [
    "salary = [100, 80, 75, 77, 89, 33, 45, 25, 65, 17, 30, 24, 57, 55, 70, 75, 65, 84, 90, 150]"
   ]
  },
  {
   "cell_type": "code",
   "execution_count": 6,
   "id": "45817b79",
   "metadata": {},
   "outputs": [
    {
     "data": {
      "text/plain": [
       "65.3"
      ]
     },
     "execution_count": 6,
     "metadata": {},
     "output_type": "execute_result"
    }
   ],
   "source": [
    "# среднее арифметическое\n",
    "n = 0\n",
    "sum = 0\n",
    "for el in salary:\n",
    "    sum += el\n",
    "    n += 1\n",
    "mean = sum/n\n",
    "mean"
   ]
  },
  {
   "cell_type": "code",
   "execution_count": 8,
   "id": "395a1cfa",
   "metadata": {},
   "outputs": [
    {
     "data": {
      "text/plain": [
       "30.823854398825596"
      ]
     },
     "execution_count": 8,
     "metadata": {},
     "output_type": "execute_result"
    }
   ],
   "source": [
    "# среднее квадратичное отклонение\n",
    "x = 0\n",
    "for el in salary:\n",
    "    x += (el - mean)**2\n",
    "msd = sqrt(x/n)\n",
    "msd"
   ]
  },
  {
   "cell_type": "code",
   "execution_count": 9,
   "id": "92cfc0a4",
   "metadata": {},
   "outputs": [
    {
     "data": {
      "text/plain": [
       "950.11"
      ]
     },
     "execution_count": 9,
     "metadata": {},
     "output_type": "execute_result"
    }
   ],
   "source": [
    "# смещённая дисперсия\n",
    "b_var = msd**2\n",
    "b_var"
   ]
  },
  {
   "cell_type": "code",
   "execution_count": 11,
   "id": "34ae3f49",
   "metadata": {},
   "outputs": [
    {
     "data": {
      "text/plain": [
       "1000.1157894736842"
      ]
     },
     "execution_count": 11,
     "metadata": {},
     "output_type": "execute_result"
    }
   ],
   "source": [
    "# несмещённая дисперсия\n",
    "unb_var = b_var*n/(n-1)\n",
    "unb_var"
   ]
  },
  {
   "cell_type": "code",
   "execution_count": 30,
   "id": "7459473c",
   "metadata": {},
   "outputs": [
    {
     "data": {
      "text/plain": [
       "45"
      ]
     },
     "execution_count": 30,
     "metadata": {},
     "output_type": "execute_result"
    }
   ],
   "source": [
    "# первый квартиль\n",
    "salary.sort()\n",
    "first_q = int(n*0.25)\n",
    "salary[first_q]"
   ]
  },
  {
   "cell_type": "code",
   "execution_count": 31,
   "id": "961e05d6",
   "metadata": {},
   "outputs": [],
   "source": [
    "df = pd.DataFrame(salary)"
   ]
  },
  {
   "cell_type": "code",
   "execution_count": 32,
   "id": "fcf4200b",
   "metadata": {},
   "outputs": [
    {
     "data": {
      "text/plain": [
       "0    42.0\n",
       "Name: 0.25, dtype: float64"
      ]
     },
     "execution_count": 32,
     "metadata": {},
     "output_type": "execute_result"
    }
   ],
   "source": [
    "df.quantile(0.25)"
   ]
  },
  {
   "cell_type": "markdown",
   "id": "89a36fb8",
   "metadata": {},
   "source": [
    "*здесь возник вопрос: автоматическим методом квартиль получается равен 42. Но в выборке нет такого значения. Если мы рассматриваем дискретную случайную величину, может ли квартилем быть значение, которого нет в выборке?* "
   ]
  },
  {
   "cell_type": "code",
   "execution_count": 33,
   "id": "d5496e30",
   "metadata": {},
   "outputs": [
    {
     "data": {
      "text/plain": [
       "84"
      ]
     },
     "execution_count": 33,
     "metadata": {},
     "output_type": "execute_result"
    }
   ],
   "source": [
    "# третий квартиль\n",
    "third_q = int(n*0.75)\n",
    "salary[third_q]"
   ]
  },
  {
   "cell_type": "code",
   "execution_count": 34,
   "id": "608b2649",
   "metadata": {},
   "outputs": [
    {
     "data": {
      "text/plain": [
       "0    81.0\n",
       "Name: 0.75, dtype: float64"
      ]
     },
     "execution_count": 34,
     "metadata": {},
     "output_type": "execute_result"
    }
   ],
   "source": [
    "df.quantile(0.75)"
   ]
  },
  {
   "cell_type": "code",
   "execution_count": 35,
   "id": "5a1c35b2",
   "metadata": {},
   "outputs": [
    {
     "data": {
      "text/plain": [
       "39"
      ]
     },
     "execution_count": 35,
     "metadata": {},
     "output_type": "execute_result"
    }
   ],
   "source": [
    "# интерквартильное расстояние\n",
    "interq_dist = salary[third_q] - salary[first_q]\n",
    "interq_dist"
   ]
  },
  {
   "cell_type": "code",
   "execution_count": 36,
   "id": "d1645c1c",
   "metadata": {},
   "outputs": [
    {
     "data": {
      "text/plain": [
       "0    39.0\n",
       "dtype: float64"
      ]
     },
     "execution_count": 36,
     "metadata": {},
     "output_type": "execute_result"
    }
   ],
   "source": [
    "interq_dist_auto = df.quantile(0.75) - df.quantile(0.25)\n",
    "interq_dist_auto"
   ]
  },
  {
   "cell_type": "code",
   "execution_count": 45,
   "id": "a2052887",
   "metadata": {},
   "outputs": [
    {
     "data": {
      "text/plain": [
       "pandas.core.series.Series"
      ]
     },
     "execution_count": 45,
     "metadata": {},
     "output_type": "execute_result"
    }
   ],
   "source": [
    "type(df[0])"
   ]
  },
  {
   "cell_type": "code",
   "execution_count": 52,
   "id": "7b57bc02",
   "metadata": {},
   "outputs": [
    {
     "data": {
      "image/png": "[encoded data removed]",
      "text/plain": [
       "<Figure size 432x288 with 1 Axes>"
      ]
     },
     "metadata": {
      "needs_background": "light"
     },
     "output_type": "display_data"
    }
   ],
   "source": [
    "# выбросы\n",
    "sns.boxplot(data = df[0], orient='h')\n",
    "plt.show()"
   ]
  },
  {
   "cell_type": "markdown",
   "id": "223213e9",
   "metadata": {},
   "source": [
    "**2. В первом ящике находится 8 мячей, из которых 5 - белые. Во втором ящике - 12 мячей, из которых 5 белых. Из первого ящика вытаскивают случайным образом два мяча, из второго - 4. Какова вероятность того, что 3 мяча белые?**"
   ]
  },
  {
   "cell_type": "code",
   "execution_count": 54,
   "id": "42191d66",
   "metadata": {},
   "outputs": [],
   "source": [
    "def comb(n, k):\n",
    "    return int(factorial(n) / (factorial(k) * factorial(n - k)))"
   ]
  },
  {
   "cell_type": "code",
   "execution_count": 62,
   "id": "8ba52701",
   "metadata": {},
   "outputs": [
    {
     "data": {
      "text/plain": [
       "0.24242424273355592"
      ]
     },
     "execution_count": 62,
     "metadata": {},
     "output_type": "execute_result"
    }
   ],
   "source": [
    "# 1ый случай - из 1го ящика 2 белых, из второго - 1\n",
    "p11 = comb(5,2)/comb(8, 2) #вероятность из 1го вытащить 2 белых\n",
    "p12 = comb(5,1)*comb(7,3)/comb(12, 4) #вероятность из 2го вытащить 1 белый и 3 черных\n",
    "p1 = p1*p2\n",
    "#2ой случай - из 1го ящика 1 белый, из второго - 2\n",
    "p21 = comb(5,1)*comb(3,1)/comb(8,2) #вероятность из 1го вытащить 1 белый и 1 черный\n",
    "p22 = comb(5,2)*comb(7,2)/comb(12,4) #вероятность из 2го вытащить 2 белых и 2 черных\n",
    "p2 = p21*p22\n",
    "#3ий случай - из 1го ящика 0 белых,из второго - 3\n",
    "p31 = comb(5,0)*comb(3,2)/comb(8,2) #вероятность из 1го вытащить 0 белых и 2 черных\n",
    "p32 = comb(5,3)*comb(7,1)/comb(12,4) #вероятность из 2го вытащить 3 белых и 1 черный\n",
    "p3 = p31*p32\n",
    "\n",
    "p = p1 + p2 + p3\n",
    "p"
   ]
  },
  {
   "cell_type": "markdown",
   "id": "fdf4ad5f",
   "metadata": {},
   "source": [
    "**3. В университет на факультеты A и B поступило равное количество студентов, а на факультет C студентов поступило столько же, сколько на A и B вместе. Вероятность того, что студент факультета A сдаст первую сессию, равна 0.8. Для студента факультета B эта вероятность равна 0.7, а для студента факультета C - 0.9. Студент сдал первую сессию. Какова вероятность, что он учится: a). на факультете A б). на факультете B в). на факультете C?**"
   ]
  },
  {
   "cell_type": "code",
   "execution_count": 79,
   "id": "17cce14d",
   "metadata": {},
   "outputs": [
    {
     "name": "stdout",
     "output_type": "stream",
     "text": [
      "Вероятность того, что сессию сдал студент факультета А - 0.333, \n",
      "факультета В - 0.292, \n",
      "факультета С - 0.375.\n"
     ]
    }
   ],
   "source": [
    "# воспользуемся формулой Байеса, чтобы определить вероятность события В (что это студент определённого факультета),\n",
    "# при условии, что событие А уже произошло (сессия сдана)\n",
    "pa = 0.8\n",
    "pb = 0.7\n",
    "pc = 0.9\n",
    "p_B = 1/3\n",
    "p_A = p_B*(pa + pb + pc)\n",
    "\n",
    "student_a = pa*p_B/p_A\n",
    "student_b = pb*p_B/p_A\n",
    "student_c = pc*p_B/p_A\n",
    "print(f'Вероятность того, что сессию сдал студент факультета А - {round(student_a, 3)}, \\nфакультета В - {round(student_b,3)}, \\nфакультета С - {round(student_c,3)}.')"
   ]
  },
  {
   "cell_type": "markdown",
   "id": "3d57316f",
   "metadata": {},
   "source": [
    "**4.Устройство состоит из трех деталей. Для первой детали вероятность выйти из строя в первый месяц равна 0.1, для второй - 0.2, для третьей - 0.25. Какова вероятность того, что в первый месяц выйдут из строя: а). все детали б). только две детали в). хотя бы одна деталь г). от одной до двух деталей?**"
   ]
  },
  {
   "cell_type": "code",
   "execution_count": 103,
   "id": "6ac4978c",
   "metadata": {},
   "outputs": [
    {
     "name": "stdout",
     "output_type": "stream",
     "text": [
      "Вероятность того, что из строя выйдут:\n",
      "все детали - 0.005,\n",
      "две детали - 0.095,\n",
      "хотя бы одна деталь - 0.46,\n",
      "от одной до двух деталей - 0.645\n"
     ]
    }
   ],
   "source": [
    "p_all = 0.1*0.2*0.25\n",
    "p_two = 0.1*0.2 + 0.1*0.25 + 0.2*0.25    # 1 и 2 / 1 и 3 / 2 и 3\n",
    "p_at_least_one = 1 - (1-0.1)*(1-0.2)*(1-0.25) # 1 минус вероятность, что ни одна деталь не сломается\n",
    "p_one_two = 0.1 + 0.2 + 0.25 + p_two\n",
    "print(f'Вероятность того, что из строя выйдут:\\nвсе детали - {round(p_all, 3)},\\n\\\n",
    "две детали - {p_two},\\n\\\n",
    "хотя бы одна деталь - {round(p_at_least_one, 3)},\\n\\\n",
    "от одной до двух деталей - {p_one_two}')"
   ]
  }
 ],
 "metadata": {
  "kernelspec": {
   "display_name": "Python 3 (ipykernel)",
   "language": "python",
   "name": "python3"
  },
  "language_info": {
   "codemirror_mode": {
    "name": "ipython",
    "version": 3
   },
   "file_extension": ".py",
   "mimetype": "text/x-python",
   "name": "python",
   "nbconvert_exporter": "python",
   "pygments_lexer": "ipython3",
   "version": "3.9.6"
  }
 },
 "nbformat": 4,
 "nbformat_minor": 5
}
