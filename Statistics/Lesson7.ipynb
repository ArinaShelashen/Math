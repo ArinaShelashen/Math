{
 "cells": [
  {
   "cell_type": "markdown",
   "id": "24254718",
   "metadata": {},
   "source": [
    "**1. Даны значения величины заработной платы заемщиков банка (zp) и значения их поведенческого кредитного скоринга (ks): <br>\n",
    "zp = [35, 45, 190, 200, 40, 70, 54, 150, 120, 110],<br>\n",
    "ks = [401, 574, 874, 919, 459, 739, 653, 902, 746, 832].<br>\n",
    "Используя математические операции, посчитать коэффициенты линейной регрессии, приняв за X заработную плату (то есть, zp - признак), а за y - значения скорингового балла (то есть, ks - целевая переменная).<br>\n",
    "Произвести расчет как с использованием intercept, так и без.**"
   ]
  },
  {
   "cell_type": "code",
   "execution_count": 46,
   "id": "629bed1e",
   "metadata": {},
   "outputs": [],
   "source": [
    "import numpy as np\n",
    "from scipy import stats"
   ]
  },
  {
   "cell_type": "code",
   "execution_count": 47,
   "id": "a340463b",
   "metadata": {},
   "outputs": [],
   "source": [
    "zp = np.array([35, 45, 190, 200, 40, 70, 54, 150, 120, 110])\n",
    "ks = np.array([401, 574, 874, 919, 459, 739, 653, 902, 746, 832])"
   ]
  },
  {
   "cell_type": "code",
   "execution_count": 48,
   "id": "431dfa1a",
   "metadata": {},
   "outputs": [],
   "source": [
    "x = zp.mean()\n",
    "y = ks.mean()\n",
    "xy = (zp * ks).mean()"
   ]
  },
  {
   "cell_type": "code",
   "execution_count": 49,
   "id": "13754613",
   "metadata": {},
   "outputs": [
    {
     "name": "stdout",
     "output_type": "stream",
     "text": [
      "y = 444.1773573243596 + 2.620538882402765 x\n"
     ]
    }
   ],
   "source": [
    "b = (xy - x * y)/((zp**2).mean() - x**2)\n",
    "a = y - b*x\n",
    "print(f'y = {a} + {b} x')"
   ]
  },
  {
   "cell_type": "code",
   "execution_count": 50,
   "id": "f055f1ba",
   "metadata": {},
   "outputs": [],
   "source": [
    "z = ks - b * zp"
   ]
  },
  {
   "cell_type": "code",
   "execution_count": 51,
   "id": "6e5445e1",
   "metadata": {},
   "outputs": [
    {
     "data": {
      "text/plain": [
       "0.21236133647063146"
      ]
     },
     "execution_count": 51,
     "metadata": {},
     "output_type": "execute_result"
    }
   ],
   "source": [
    "#correlation coefficient\n",
    "r = ((z - z.mean())**2).sum()/((ks - ks.mean())**2).sum()\n",
    "r"
   ]
  },
  {
   "cell_type": "code",
   "execution_count": 52,
   "id": "d07d9121",
   "metadata": {},
   "outputs": [
    {
     "data": {
      "text/plain": [
       "array([[1.        , 0.21236134],\n",
       "       [0.21236134, 1.        ]])"
      ]
     },
     "execution_count": 52,
     "metadata": {},
     "output_type": "execute_result"
    }
   ],
   "source": [
    "(np.corrcoef(ks, z))**2"
   ]
  },
  {
   "cell_type": "code",
   "execution_count": 53,
   "id": "ab5f589a",
   "metadata": {},
   "outputs": [
    {
     "data": {
      "text/plain": [
       "0.21236133647063146"
      ]
     },
     "execution_count": 53,
     "metadata": {},
     "output_type": "execute_result"
    }
   ],
   "source": [
    "r = z.var()/ks.var()\n",
    "r"
   ]
  },
  {
   "cell_type": "code",
   "execution_count": 54,
   "id": "9e0b5407",
   "metadata": {},
   "outputs": [
    {
     "data": {
      "text/plain": [
       "0.34712406301781595"
      ]
     },
     "execution_count": 54,
     "metadata": {},
     "output_type": "execute_result"
    }
   ],
   "source": [
    "# mean approx.error\n",
    "err = np.abs((ks - z) / ks).mean()\n",
    "err"
   ]
  },
  {
   "cell_type": "code",
   "execution_count": 55,
   "id": "cd41abdc",
   "metadata": {},
   "outputs": [
    {
     "data": {
      "text/plain": [
       "5.317655071578714"
      ]
     },
     "execution_count": 55,
     "metadata": {},
     "output_type": "execute_result"
    }
   ],
   "source": [
    "alpha = 0.05\n",
    "k1 = 1\n",
    "k2 = len(ks) - k1 - 1\n",
    "\n",
    "F_crit = stats.f.ppf(1 - alpha, k1, k2)\n",
    "F_crit"
   ]
  },
  {
   "cell_type": "code",
   "execution_count": 56,
   "id": "6ef97c39",
   "metadata": {},
   "outputs": [
    {
     "data": {
      "text/plain": [
       "2.156941717604884"
      ]
     },
     "execution_count": 56,
     "metadata": {},
     "output_type": "execute_result"
    }
   ],
   "source": [
    "T = (r / (1 - r)) * (k2 / k1)\n",
    "T"
   ]
  },
  {
   "cell_type": "markdown",
   "id": "fc2c2779",
   "metadata": {},
   "source": [
    "Выходит, уравнение статистически незначимо"
   ]
  },
  {
   "cell_type": "code",
   "execution_count": 57,
   "id": "e87ce218",
   "metadata": {},
   "outputs": [],
   "source": [
    "def standard_error_slope(x, y, z):\n",
    "    n = x.shape[0]\n",
    "    \n",
    "    upper = ((y - z) ** 2).sum() / (n - 2)\n",
    "    lower = ((x - x.mean()) ** 2).sum()\n",
    "    \n",
    "    return np.sqrt(upper / lower)"
   ]
  },
  {
   "cell_type": "code",
   "execution_count": 58,
   "id": "0ee60b89",
   "metadata": {},
   "outputs": [
    {
     "data": {
      "text/plain": [
       "1.8395661824550684"
      ]
     },
     "execution_count": 58,
     "metadata": {},
     "output_type": "execute_result"
    }
   ],
   "source": [
    "s_slope = standard_error_slope(zp, ks, z)\n",
    "s_slope"
   ]
  },
  {
   "cell_type": "code",
   "execution_count": 59,
   "id": "3c02665a",
   "metadata": {},
   "outputs": [
    {
     "data": {
      "text/plain": [
       "(-2.2622, 2.2622)"
      ]
     },
     "execution_count": 59,
     "metadata": {},
     "output_type": "execute_result"
    }
   ],
   "source": [
    "t = 2.2622\n",
    "( - t, t)"
   ]
  },
  {
   "cell_type": "code",
   "execution_count": 60,
   "id": "60a4d7f8",
   "metadata": {},
   "outputs": [
    {
     "data": {
      "text/plain": [
       "1.4245417791413284"
      ]
     },
     "execution_count": 60,
     "metadata": {},
     "output_type": "execute_result"
    }
   ],
   "source": [
    "t = b / s_slope\n",
    "t"
   ]
  },
  {
   "cell_type": "markdown",
   "id": "3c424cf1",
   "metadata": {},
   "source": [
    "Значение попало в критическую область, гипотеза о равенстве коэффициента В нулю отвергается"
   ]
  },
  {
   "cell_type": "code",
   "execution_count": 61,
   "id": "238d9419",
   "metadata": {},
   "outputs": [],
   "source": [
    "def standard_error_intercept(x, y, z):\n",
    "    return standard_error_slope(x, y, z) * np.sqrt((x ** 2).mean())"
   ]
  },
  {
   "cell_type": "code",
   "execution_count": 62,
   "id": "a1edadae",
   "metadata": {},
   "outputs": [
    {
     "data": {
      "text/plain": [
       "215.91680323545583"
      ]
     },
     "execution_count": 62,
     "metadata": {},
     "output_type": "execute_result"
    }
   ],
   "source": [
    "s_intercept = standard_error_intercept(zp, ks, z)\n",
    "s_intercept"
   ]
  },
  {
   "cell_type": "code",
   "execution_count": 63,
   "id": "d64138dd",
   "metadata": {},
   "outputs": [
    {
     "data": {
      "text/plain": [
       "2.0571690144929904"
      ]
     },
     "execution_count": 63,
     "metadata": {},
     "output_type": "execute_result"
    }
   ],
   "source": [
    "t = a / s_intercept\n",
    "t"
   ]
  },
  {
   "cell_type": "markdown",
   "id": "8aa8c28c",
   "metadata": {},
   "source": [
    "Значение попало в критическую область, гипотеза о равенстве коэффициента A нулю отвергается"
   ]
  }
 ],
 "metadata": {
  "kernelspec": {
   "display_name": "Python 3 (ipykernel)",
   "language": "python",
   "name": "python3"
  },
  "language_info": {
   "codemirror_mode": {
    "name": "ipython",
    "version": 3
   },
   "file_extension": ".py",
   "mimetype": "text/x-python",
   "name": "python",
   "nbconvert_exporter": "python",
   "pygments_lexer": "ipython3",
   "version": "3.9.6"
  }
 },
 "nbformat": 4,
 "nbformat_minor": 5
}
