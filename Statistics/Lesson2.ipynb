{
 "cells": [
  {
   "cell_type": "markdown",
   "id": "dec3f286",
   "metadata": {},
   "source": [
    "## Урок 2. Дискретные случайные величины. Закон распределения вероятностей. Биномиальный закон распределения. Распределение Пуассона"
   ]
  },
  {
   "cell_type": "markdown",
   "id": "14b11f6d",
   "metadata": {},
   "source": [
    "**1. Вероятность того, что стрелок попадет в мишень, выстрелив один раз, равна 0.8. Стрелок выстрелил 100 раз. Найдите вероятность того, что стрелок попадет в цель ровно 85 раз.**"
   ]
  },
  {
   "cell_type": "code",
   "execution_count": 1,
   "id": "a0261210",
   "metadata": {},
   "outputs": [],
   "source": [
    "from math import factorial, exp"
   ]
  },
  {
   "cell_type": "code",
   "execution_count": 2,
   "id": "714dca74",
   "metadata": {},
   "outputs": [],
   "source": [
    "def comb(n, k):\n",
    "    return int(factorial(n) / (factorial(k) * factorial(n - k)))"
   ]
  },
  {
   "cell_type": "code",
   "execution_count": 3,
   "id": "381f8a6f",
   "metadata": {},
   "outputs": [],
   "source": [
    "def bernoulli(n, k, p):\n",
    "    q = 1 - p\n",
    "    pos = comb(n, k)*(p**k)*(q**(n-k))\n",
    "    return round(pos, 5)"
   ]
  },
  {
   "cell_type": "code",
   "execution_count": 4,
   "id": "5c22ccd6",
   "metadata": {},
   "outputs": [
    {
     "data": {
      "text/plain": [
       "0.04806"
      ]
     },
     "execution_count": 4,
     "metadata": {},
     "output_type": "execute_result"
    }
   ],
   "source": [
    "bernoulli(100, 85, 0.8)"
   ]
  },
  {
   "cell_type": "markdown",
   "id": "ed96fe59",
   "metadata": {},
   "source": [
    "**2. Вероятность того, что лампочка перегорит в течение первого дня эксплуатации, равна 0.0004. В жилом комплексе после ремонта в один день включили 5000 новых лампочек. Какова вероятность, что ни одна из них не перегорит в первый день? Какова вероятность, что перегорят ровно две?**"
   ]
  },
  {
   "cell_type": "code",
   "execution_count": 5,
   "id": "97c051d5",
   "metadata": {},
   "outputs": [],
   "source": [
    "def poisson(n, m, p):\n",
    "    lam = n*p\n",
    "    pos = (lam**m)*exp(-lam)/factorial(m)\n",
    "    return round(pos, 5)"
   ]
  },
  {
   "cell_type": "code",
   "execution_count": 6,
   "id": "054edc95",
   "metadata": {},
   "outputs": [
    {
     "data": {
      "text/plain": [
       "0.13534"
      ]
     },
     "execution_count": 6,
     "metadata": {},
     "output_type": "execute_result"
    }
   ],
   "source": [
    "poisson(5000, 0, 0.0004)"
   ]
  },
  {
   "cell_type": "code",
   "execution_count": 7,
   "id": "714263ca",
   "metadata": {},
   "outputs": [
    {
     "data": {
      "text/plain": [
       "0.27067"
      ]
     },
     "execution_count": 7,
     "metadata": {},
     "output_type": "execute_result"
    }
   ],
   "source": [
    "poisson(5000, 2, 0.0004)"
   ]
  },
  {
   "cell_type": "markdown",
   "id": "b920e729",
   "metadata": {},
   "source": [
    "**3. Монету подбросили 144 раза. Какова вероятность, что орел выпадет ровно 70 раз?**"
   ]
  },
  {
   "cell_type": "code",
   "execution_count": 8,
   "id": "78220f1a",
   "metadata": {},
   "outputs": [
    {
     "data": {
      "text/plain": [
       "0.06281"
      ]
     },
     "execution_count": 8,
     "metadata": {},
     "output_type": "execute_result"
    }
   ],
   "source": [
    "bernoulli(144, 70, 0.5)"
   ]
  },
  {
   "cell_type": "markdown",
   "id": "6ca6bbd5",
   "metadata": {},
   "source": [
    "**4. В первом ящике находится 10 мячей, из которых 7 - белые. Во втором ящике - 11 мячей, из которых 9 белых. Из каждого ящика вытаскивают случайным образом по два мяча. Какова вероятность того, что все мячи белые?**"
   ]
  },
  {
   "cell_type": "code",
   "execution_count": 9,
   "id": "da002315",
   "metadata": {},
   "outputs": [
    {
     "data": {
      "text/plain": [
       "0.3054545454545455"
      ]
     },
     "execution_count": 9,
     "metadata": {},
     "output_type": "execute_result"
    }
   ],
   "source": [
    "p_1 = (7/10)*(6/9)\n",
    "p_2 = (9/11)*(8/10)\n",
    "p = p_1 * p_2\n",
    "p"
   ]
  },
  {
   "cell_type": "markdown",
   "id": "9b742633",
   "metadata": {},
   "source": [
    "**Какова вероятность того, что ровно два мяча белые?**"
   ]
  },
  {
   "cell_type": "code",
   "execution_count": 12,
   "id": "ab5dbd17",
   "metadata": {},
   "outputs": [],
   "source": [
    "# можно по аналогии с предыдущим пунктом перебрать все варианты развития событий (их 6 штук),\n",
    "# но возможно есть вариант лаконичнее"
   ]
  },
  {
   "cell_type": "markdown",
   "id": "7a00ed12",
   "metadata": {},
   "source": [
    "**Какова вероятность того, что хотя бы один мяч белый?**"
   ]
  },
  {
   "cell_type": "code",
   "execution_count": 11,
   "id": "1f1f0701",
   "metadata": {},
   "outputs": [
    {
     "data": {
      "text/plain": [
       "0.999"
      ]
     },
     "execution_count": 11,
     "metadata": {},
     "output_type": "execute_result"
    }
   ],
   "source": [
    "p_all_black = (3/10)*(2/9)*(2/11)*(1/10)\n",
    "p_one_white = round((1 - p_all_black), 3)\n",
    "p_one_white"
   ]
  }
 ],
 "metadata": {
  "kernelspec": {
   "display_name": "Python 3 (ipykernel)",
   "language": "python",
   "name": "python3"
  },
  "language_info": {
   "codemirror_mode": {
    "name": "ipython",
    "version": 3
   },
   "file_extension": ".py",
   "mimetype": "text/x-python",
   "name": "python",
   "nbconvert_exporter": "python",
   "pygments_lexer": "ipython3",
   "version": "3.9.6"
  }
 },
 "nbformat": 4,
 "nbformat_minor": 5
}
