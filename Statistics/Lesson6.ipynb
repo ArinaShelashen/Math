{
 "cells": [
  {
   "cell_type": "markdown",
   "id": "aa698aab",
   "metadata": {},
   "source": [
    "**1.Даны значения величины заработной платы заемщиков банка (zp) и значения их поведенческого кредитного скоринга (ks):<br>\n",
    "zp = [35, 45, 190, 200, 40, 70, 54, 150, 120, 110],<br>\n",
    "ks = [401, 574, 874, 919, 459, 739, 653, 902, 746, 832].<br>\n",
    "Найдите ковариацию этих двух величин с помощью элементарных действий, а затем с помощью функции cov из numpy.\n",
    "Полученные значения должны быть равны.<br>\n",
    "Найдите коэффициент корреляции Пирсона с помощью ковариации и среднеквадратичных отклонений двух признаков,\n",
    "а затем с использованием функций из библиотек numpy и pandas.**"
   ]
  },
  {
   "cell_type": "code",
   "execution_count": 48,
   "id": "4697a5ba",
   "metadata": {},
   "outputs": [],
   "source": [
    "import numpy as np\n",
    "import pandas as pd\n",
    "from math import sqrt"
   ]
  },
  {
   "cell_type": "code",
   "execution_count": 49,
   "id": "22a33d9f",
   "metadata": {},
   "outputs": [],
   "source": [
    "zp = np.array([35, 45, 190, 200, 40, 70, 54, 150, 120, 110])\n",
    "ks = np.array([401, 574, 874, 919, 459, 739, 653, 902, 746, 832])"
   ]
  },
  {
   "cell_type": "code",
   "execution_count": 50,
   "id": "5b3c1ba9",
   "metadata": {},
   "outputs": [],
   "source": [
    "Mzp = zp.mean()\n",
    "Mks = ks.mean()"
   ]
  },
  {
   "cell_type": "code",
   "execution_count": 51,
   "id": "b0b87eb3",
   "metadata": {},
   "outputs": [
    {
     "data": {
      "text/plain": [
       "9157.839999999997"
      ]
     },
     "execution_count": 51,
     "metadata": {},
     "output_type": "execute_result"
    }
   ],
   "source": [
    "#Смещённая ковариация\n",
    "covar1 = (zp * ks).mean() - Mzp * Mks\n",
    "covar1"
   ]
  },
  {
   "cell_type": "code",
   "execution_count": 52,
   "id": "fe52f77d",
   "metadata": {},
   "outputs": [
    {
     "data": {
      "text/plain": [
       "9157.84"
      ]
     },
     "execution_count": 52,
     "metadata": {},
     "output_type": "execute_result"
    }
   ],
   "source": [
    "#Смещённая ковариация\n",
    "covar2 = ((zp - Mzp) * (ks - Mks)).mean()\n",
    "covar2"
   ]
  },
  {
   "cell_type": "code",
   "execution_count": 53,
   "id": "f4ebfe09",
   "metadata": {},
   "outputs": [
    {
     "data": {
      "text/plain": [
       "array([[ 3882.93333333, 10175.37777778],\n",
       "       [10175.37777778, 33854.32222222]])"
      ]
     },
     "execution_count": 53,
     "metadata": {},
     "output_type": "execute_result"
    }
   ],
   "source": [
    "#Несмещённая ковариация\n",
    "covar3 = np.cov(zp, ks)\n",
    "covar3"
   ]
  },
  {
   "cell_type": "code",
   "execution_count": 54,
   "id": "0b17e092",
   "metadata": {},
   "outputs": [
    {
     "data": {
      "text/plain": [
       "10175.37777777778"
      ]
     },
     "execution_count": 54,
     "metadata": {},
     "output_type": "execute_result"
    }
   ],
   "source": [
    "#Несмещённая ковариация\n",
    "covar4 = ((zp - Mzp)*(ks - Mks)).sum()/(zp.shape[0] - 1)\n",
    "covar4"
   ]
  },
  {
   "cell_type": "code",
   "execution_count": 55,
   "id": "ac693923",
   "metadata": {},
   "outputs": [],
   "source": [
    "# CKO\n",
    "std_zp = zp.std()\n",
    "std_ks = ks.std()"
   ]
  },
  {
   "cell_type": "code",
   "execution_count": 56,
   "id": "ad2acaff",
   "metadata": {},
   "outputs": [
    {
     "data": {
      "text/plain": [
       "0.9861001023043514"
      ]
     },
     "execution_count": 56,
     "metadata": {},
     "output_type": "execute_result"
    }
   ],
   "source": [
    "#Коэффициент корреляции Пирсона со смещённым СКО\n",
    "coef1 = covar4/(std_zp * std_ks)\n",
    "coef1"
   ]
  },
  {
   "cell_type": "code",
   "execution_count": 57,
   "id": "e0ce3958",
   "metadata": {},
   "outputs": [
    {
     "data": {
      "text/plain": [
       "0.8874900920739164"
      ]
     },
     "execution_count": 57,
     "metadata": {},
     "output_type": "execute_result"
    }
   ],
   "source": [
    "#Коэффициент корреляции Пирсона с несмещённым СКО\n",
    "coef2 = covar4/(std_zp * std_ks * 10 / 9)\n",
    "coef2"
   ]
  },
  {
   "cell_type": "code",
   "execution_count": 58,
   "id": "47d6820c",
   "metadata": {},
   "outputs": [
    {
     "data": {
      "text/plain": [
       "array([[1.        , 0.88749009],\n",
       "       [0.88749009, 1.        ]])"
      ]
     },
     "execution_count": 58,
     "metadata": {},
     "output_type": "execute_result"
    }
   ],
   "source": [
    "np.corrcoef(zp, ks)"
   ]
  },
  {
   "cell_type": "code",
   "execution_count": 59,
   "id": "42a518f4",
   "metadata": {},
   "outputs": [
    {
     "data": {
      "text/html": [
       "<div>\n",
       "<style scoped>\n",
       "    .dataframe tbody tr th:only-of-type {\n",
       "        vertical-align: middle;\n",
       "    }\n",
       "\n",
       "    .dataframe tbody tr th {\n",
       "        vertical-align: top;\n",
       "    }\n",
       "\n",
       "    .dataframe thead th {\n",
       "        text-align: right;\n",
       "    }\n",
       "</style>\n",
       "<table border=\"1\" class=\"dataframe\">\n",
       "  <thead>\n",
       "    <tr style=\"text-align: right;\">\n",
       "      <th></th>\n",
       "      <th>0</th>\n",
       "      <th>0</th>\n",
       "    </tr>\n",
       "  </thead>\n",
       "  <tbody>\n",
       "    <tr>\n",
       "      <th>0</th>\n",
       "      <td>1.00000</td>\n",
       "      <td>0.88749</td>\n",
       "    </tr>\n",
       "    <tr>\n",
       "      <th>0</th>\n",
       "      <td>0.88749</td>\n",
       "      <td>1.00000</td>\n",
       "    </tr>\n",
       "  </tbody>\n",
       "</table>\n",
       "</div>"
      ],
      "text/plain": [
       "         0        0\n",
       "0  1.00000  0.88749\n",
       "0  0.88749  1.00000"
      ]
     },
     "execution_count": 59,
     "metadata": {},
     "output_type": "execute_result"
    }
   ],
   "source": [
    "df1 = pd.DataFrame(zp)\n",
    "df2 = pd.DataFrame(ks)\n",
    "df = pd.concat([df1, df2], axis = 1)\n",
    "df.corr()"
   ]
  },
  {
   "cell_type": "markdown",
   "id": "8b710fc9",
   "metadata": {},
   "source": [
    "**2.Измерены значения IQ выборки студентов,\n",
    "обучающихся в местных технических вузах:<br>\n",
    "131, 125, 115, 122, 131, 115, 107, 99, 125, 111.<br>\n",
    "Известно, что в генеральной совокупности IQ распределен нормально.<br>\n",
    "Найдите доверительный интервал для математического ожидания с надежностью 0.95.**"
   ]
  },
  {
   "cell_type": "code",
   "execution_count": 60,
   "id": "d63116c5",
   "metadata": {},
   "outputs": [
    {
     "data": {
      "text/plain": [
       "(111.05083614862363, 125.14916385137636)"
      ]
     },
     "execution_count": 60,
     "metadata": {},
     "output_type": "execute_result"
    }
   ],
   "source": [
    "iq = np.array([131, 125, 115, 122, 131, 115, 107, 99, 125, 111])\n",
    "m = iq.mean()\n",
    "n = len(iq)\n",
    "s = iq.std()\n",
    "t = 2.2281389\n",
    "(m - t*s/sqrt(n), m + t*s/sqrt(n))"
   ]
  },
  {
   "cell_type": "code",
   "execution_count": 61,
   "id": "a2157007",
   "metadata": {},
   "outputs": [
    {
     "data": {
      "text/plain": [
       "(111.77259926984232, 124.42740073015767)"
      ]
     },
     "execution_count": 61,
     "metadata": {},
     "output_type": "execute_result"
    }
   ],
   "source": [
    "#по правилу двух  сигм:\n",
    "(m - 2*s/sqrt(n), m + 2*s/sqrt(n))"
   ]
  },
  {
   "cell_type": "markdown",
   "id": "3778a7aa",
   "metadata": {},
   "source": [
    "**3.Известно, что рост футболистов в сборной распределен нормально\n",
    "с дисперсией генеральной совокупности, равной 25 кв.см. Объем выборки равен 27,\n",
    "среднее выборочное составляет 174.2. Найдите доверительный интервал для математического\n",
    "ожидания с надежностью 0.95.**"
   ]
  },
  {
   "cell_type": "code",
   "execution_count": 62,
   "id": "c22f1823",
   "metadata": {},
   "outputs": [
    {
     "data": {
      "text/plain": [
       "(172.27549910270125, 176.12450089729873)"
      ]
     },
     "execution_count": 62,
     "metadata": {},
     "output_type": "execute_result"
    }
   ],
   "source": [
    "# для надежности 0.95 работает правило двух сигм\n",
    "var = 25\n",
    "n = 27\n",
    "m = 174.2\n",
    "p = 0.95\n",
    "s = sqrt(var)\n",
    "\n",
    "# доверительный интервал по правилу двух сигм:\n",
    "(m - 2*s/sqrt(n), m + 2*s/sqrt(n))"
   ]
  },
  {
   "cell_type": "code",
   "execution_count": 63,
   "id": "cde28bb9",
   "metadata": {},
   "outputs": [
    {
     "data": {
      "text/plain": [
       "(172.22206591263802, 176.17793408736196)"
      ]
     },
     "execution_count": 63,
     "metadata": {},
     "output_type": "execute_result"
    }
   ],
   "source": [
    "#по критерию Стьюдента:\n",
    "t = 2.0555294\n",
    "(m - t*s/sqrt(n), m + t*s/sqrt(n))"
   ]
  }
 ],
 "metadata": {
  "kernelspec": {
   "display_name": "Python 3 (ipykernel)",
   "language": "python",
   "name": "python3"
  },
  "language_info": {
   "codemirror_mode": {
    "name": "ipython",
    "version": 3
   },
   "file_extension": ".py",
   "mimetype": "text/x-python",
   "name": "python",
   "nbconvert_exporter": "python",
   "pygments_lexer": "ipython3",
   "version": "3.9.6"
  }
 },
 "nbformat": 4,
 "nbformat_minor": 5
}
