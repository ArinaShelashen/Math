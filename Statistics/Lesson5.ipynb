{
 "cells": [
  {
   "cell_type": "markdown",
   "id": "581b81ea",
   "metadata": {},
   "source": [
    "**1. Известно, что генеральная совокупность распределена нормально\n",
    "со средним квадратическим отклонением, равным 16.\n",
    "Найти доверительный интервал для оценки математического ожидания a с надежностью 0.95,\n",
    "если выборочная средняя M = 80, а объем выборки n = 256.**"
   ]
  },
  {
   "cell_type": "code",
   "execution_count": 37,
   "id": "8a4af9e0",
   "metadata": {},
   "outputs": [],
   "source": [
    "from math import sqrt\n",
    "import pandas as pd"
   ]
  },
  {
   "cell_type": "code",
   "execution_count": 38,
   "id": "d2247a68",
   "metadata": {},
   "outputs": [
    {
     "data": {
      "text/plain": [
       "(78.0, 82.0)"
      ]
     },
     "execution_count": 38,
     "metadata": {},
     "output_type": "execute_result"
    }
   ],
   "source": [
    "# для надежности 0.95 работает правило двух сигм\n",
    "m = 80\n",
    "s = 16\n",
    "n = 256\n",
    "a = 0.95\n",
    "# доверительный интервал:\n",
    "(m - 2*s/sqrt(n), m + 2*s/sqrt(n))"
   ]
  },
  {
   "cell_type": "code",
   "execution_count": 39,
   "id": "453f2240",
   "metadata": {},
   "outputs": [
    {
     "data": {
      "text/plain": [
       "0.050000000000000044"
      ]
     },
     "execution_count": 39,
     "metadata": {},
     "output_type": "execute_result"
    }
   ],
   "source": [
    "# по критерию Стъюдента:\n",
    "p = 1 - a\n",
    "p"
   ]
  },
  {
   "cell_type": "code",
   "execution_count": 40,
   "id": "a6fb3e75",
   "metadata": {},
   "outputs": [
    {
     "data": {
      "text/plain": [
       "(78.0306894, 81.9693106)"
      ]
     },
     "execution_count": 40,
     "metadata": {},
     "output_type": "execute_result"
    }
   ],
   "source": [
    "t = 1.9693106\n",
    "(m - t*s/sqrt(n), m + t*s/sqrt(n))"
   ]
  },
  {
   "cell_type": "markdown",
   "id": "b0d47492",
   "metadata": {},
   "source": [
    "**2. В результате 10 независимых измерений некоторой величины X, выполненных с одинаковой точностью,\n",
    "получены опытные данные:\n",
    "6.9, 6.1, 6.2, 6.8, 7.5, 6.3, 6.4, 6.9, 6.7, 6.1\n",
    "Предполагая, что результаты измерений подчинены нормальному закону распределения вероятностей,\n",
    "оценить истинное значение величины X при помощи доверительного интервала, покрывающего это\n",
    "значение с доверительной вероятностью 0,95.**"
   ]
  },
  {
   "cell_type": "code",
   "execution_count": 41,
   "id": "4e41ab8f",
   "metadata": {},
   "outputs": [
    {
     "data": {
      "text/plain": [
       "(6.2840646693131195, 6.895935330686882)"
      ]
     },
     "execution_count": 41,
     "metadata": {},
     "output_type": "execute_result"
    }
   ],
   "source": [
    "data = [6.9, 6.1, 6.2, 6.8, 7.5, 6.3, 6.4, 6.9, 6.7, 6.1]\n",
    "m = float(pd.DataFrame(data).mean())\n",
    "n = len(data)\n",
    "a = 0.95\n",
    "p = 1 - a\n",
    "s = float(pd.DataFrame(data).std(ddof=0))\n",
    "t = 2.2621572\n",
    "# доверительный интервал:\n",
    "(m - t*s/sqrt(n), m + t*s/sqrt(n))\n"
   ]
  },
  {
   "cell_type": "markdown",
   "id": "4477a60f",
   "metadata": {},
   "source": [
    "**3. Утверждается, что шарики для подшипников, изготовленные автоматическим станком, имеют средний диаметр 17 мм.\n",
    "Используя односторонний критерий с α=0,05, проверить эту гипотезу, если в выборке из n=100 шариков средний диаметр\n",
    "оказался равным 17.5 мм, а дисперсия известна и равна 4 мм.**"
   ]
  },
  {
   "cell_type": "markdown",
   "id": "d79f5b96",
   "metadata": {},
   "source": [
    "*Что значит <u>односторонний</u> критерий???*"
   ]
  },
  {
   "cell_type": "code",
   "execution_count": 42,
   "id": "cb33a671",
   "metadata": {},
   "outputs": [
    {
     "data": {
      "text/plain": [
       "(17.103156609698264, 17.896843390301736)"
      ]
     },
     "execution_count": 42,
     "metadata": {},
     "output_type": "execute_result"
    }
   ],
   "source": [
    "m_hypo = 17\n",
    "a = 0.05\n",
    "n = 100\n",
    "m = 17.5\n",
    "d = 4\n",
    "s = sqrt(d)\n",
    "t = 1.9842169515086827\n",
    "# доверительный интервал:\n",
    "(m - t*s/sqrt(n), m + t*s/sqrt(n))"
   ]
  },
  {
   "cell_type": "markdown",
   "id": "ba6ef9dc",
   "metadata": {},
   "source": [
    "Вывод: Гипотеза отклоняется, т.к. предполагаемое значение не входит в доверительный интервал"
   ]
  },
  {
   "cell_type": "markdown",
   "id": "7d63417c",
   "metadata": {},
   "source": [
    "**4. Продавец утверждает, что средний вес пачки печенья составляет 200 г.\n",
    "Из партии извлечена выборка из 10 пачек. Вес каждой пачки составляет:\n",
    "202, 203, 199, 197, 195, 201, 200, 204, 194, 190.\n",
    "Известно, что их веса распределены нормально.\n",
    "Верно ли утверждение продавца, если учитывать, что доверительная вероятность равна 99%?**"
   ]
  },
  {
   "cell_type": "code",
   "execution_count": 43,
   "id": "b1bc7e43",
   "metadata": {},
   "outputs": [
    {
     "data": {
      "text/plain": [
       "(193.92322840036354, 203.07677159963646)"
      ]
     },
     "execution_count": 43,
     "metadata": {},
     "output_type": "execute_result"
    }
   ],
   "source": [
    "mass = [202, 203, 199, 197, 195, 201, 200, 204, 194, 190]\n",
    "m_hypo = 200\n",
    "n = 10\n",
    "p = 0.99\n",
    "a = 1 - p\n",
    "t = 3.2498355440153697\n",
    "s = float(pd.DataFrame(mass).std())\n",
    "m = float(pd.DataFrame(mass).mean())\n",
    "(m - t*s/sqrt(n), m + t*s/sqrt(n))"
   ]
  },
  {
   "cell_type": "markdown",
   "id": "d4866fd0",
   "metadata": {},
   "source": [
    "Вывод: гипотеза принимается, т.к. предполагаемое значение средней массы входит в доверительный интервал"
   ]
  }
 ],
 "metadata": {
  "kernelspec": {
   "display_name": "Python 3 (ipykernel)",
   "language": "python",
   "name": "python3"
  },
  "language_info": {
   "codemirror_mode": {
    "name": "ipython",
    "version": 3
   },
   "file_extension": ".py",
   "mimetype": "text/x-python",
   "name": "python",
   "nbconvert_exporter": "python",
   "pygments_lexer": "ipython3",
   "version": "3.9.6"
  }
 },
 "nbformat": 4,
 "nbformat_minor": 5
}
